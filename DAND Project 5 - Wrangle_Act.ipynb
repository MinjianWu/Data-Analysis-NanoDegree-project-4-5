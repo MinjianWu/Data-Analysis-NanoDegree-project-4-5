{
 "cells": [
  {
   "cell_type": "markdown",
   "id": "interesting-visibility",
   "metadata": {},
   "source": [
    "## Table of Contents\n",
    "- [Part I - Gather, Assess and Clean the Data](#partI)\n",
    "    - [Gather](#Gather)\n",
    "    - [Assess](#Assess)\n",
    "        - [Issues with The WeRateDogs Twitter Archive dataframe](#issuesI)\n",
    "        - [Issues with The Tweet Image Predictions dataframe](#issuesII)\n",
    "        - [Issues with The Tweet Data dataframe](#issuesIII)\n",
    "    - [Clean](#Clean)\n",
    "        - [Summary](#Summary)\n",
    "        - [Addressing the Issues](#Address)\n",
    "- [Part II - Analysis and Insight](#partII)"
   ]
  },
  {
   "cell_type": "code",
   "execution_count": 1,
   "id": "invalid-transmission",
   "metadata": {},
   "outputs": [],
   "source": [
    "import pandas as pd\n",
    "import numpy as np\n",
    "import matplotlib.pyplot as plt\n",
    "import requests\n",
    "import json\n",
    "import tweepy\n",
    "from timeit import default_timer as timer\n",
    "from PIL import Image\n",
    "from wordcloud import WordCloud\n",
    "import seaborn as sns\n",
    "from scipy import stats\n",
    "%matplotlib inline"
   ]
  },
  {
   "cell_type": "markdown",
   "id": "attached-symposium",
   "metadata": {},
   "source": [
    "<a id='partI'></a>\n",
    "## Part I - Gather, Assess and Clean the Data"
   ]
  },
  {
   "cell_type": "markdown",
   "id": "diagnostic-samba",
   "metadata": {},
   "source": [
    "<a id='Gather'></a>\n",
    "### Gather"
   ]
  },
  {
   "cell_type": "code",
   "execution_count": 2,
   "id": "authorized-faith",
   "metadata": {},
   "outputs": [
    {
     "data": {
      "text/plain": [
       "200"
      ]
     },
     "execution_count": 2,
     "metadata": {},
     "output_type": "execute_result"
    }
   ],
   "source": [
    "url_im_pred = 'https://d17h27t6h515a5.cloudfront.net/topher/2017/August/599fd2ad_image-predictions/image-predictions.tsv'\n",
    "r = requests.get(url_im_pred)\n",
    "r.status_code"
   ]
  },
  {
   "cell_type": "code",
   "execution_count": 3,
   "id": "czech-sierra",
   "metadata": {},
   "outputs": [
    {
     "data": {
      "text/plain": [
       "'utf-8'"
      ]
     },
     "execution_count": 3,
     "metadata": {},
     "output_type": "execute_result"
    }
   ],
   "source": [
    "r.encoding"
   ]
  },
  {
   "cell_type": "code",
   "execution_count": 4,
   "id": "seeing-company",
   "metadata": {},
   "outputs": [],
   "source": [
    "with open('image_predictions.tsv', 'w') as file:\n",
    "    file.write(r.text)"
   ]
  },
  {
   "cell_type": "code",
   "execution_count": 5,
   "id": "extra-analysis",
   "metadata": {},
   "outputs": [],
   "source": [
    "consumer_key = 'YOUR_KEY'\n",
    "consumer_secret = 'YOUR_SECRET'\n",
    "access_token = 'YOUR_TOKEN'\n",
    "access_secret = 'YOUR_SECRET'\n",
    "\n",
    "auth = tweepy.OAuthHandler(consumer_key, consumer_secret)\n",
    "auth.set_access_token(access_token, access_secret)\n",
    "\n",
    "api = tweepy.API(auth, wait_on_rate_limit=True, wait_on_rate_limit_notify=True)"
   ]
  },
  {
   "cell_type": "code",
   "execution_count": 6,
   "id": "potential-obligation",
   "metadata": {},
   "outputs": [],
   "source": [
    "# get tweet IDs from the archive\n",
    "tweet_ids = twtarch['tweet_id'].values\n",
    "tot = len(tweet_ids)\n",
    "\n",
    "# query twitter's API for JSON data for each tweet ID in the twitter archive\n",
    "count = 0\n",
    "fails_dict = {}\n",
    "\n",
    "# start timer\n",
    "start = timer()\n",
    "# save each tweet's returned JSON as a new line in the specified txt file\n",
    "with open('tweet_json.txt', 'w') as outfile:\n",
    "    for tweet_id in tweet_ids:\n",
    "        count += 1\n",
    "        print('{} of {}: {}'.format(str(count), str(tot), str(tweet_id)))\n",
    "        try:\n",
    "            tweet = api.get_status(tweet_id, tweet_mode='extended')\n",
    "            print(\"Success\")\n",
    "            json.dump(tweet._json, outfile)\n",
    "            outfile.write('\\n')\n",
    "        except tweepy.TweepError as e:\n",
    "            print(\"Fail\")\n",
    "            fails_dict[tweet_id] = e\n",
    "            pass\n",
    "# end timer\n",
    "end = timer()\n",
    "\n",
    "# print duration and error output ids\n",
    "print(end - start)\n",
    "print(fails_dict)"
   ]
  },
  {
   "cell_type": "markdown",
   "id": "insured-skirt",
   "metadata": {},
   "source": [
    "<a id='Assess'></a>\n",
    "### Assess"
   ]
  },
  {
   "cell_type": "code",
   "execution_count": 7,
   "id": "loving-angel",
   "metadata": {},
   "outputs": [],
   "source": [
    "twtarch = pd.read_csv('twitter-archive-enhanced.csv')"
   ]
  },
  {
   "cell_type": "code",
   "execution_count": 8,
   "id": "wireless-given",
   "metadata": {
    "scrolled": true
   },
   "outputs": [],
   "source": [
    "imgpred = pd.read_csv('image_predictions.tsv', sep='\\t')"
   ]
  },
  {
   "cell_type": "code",
   "execution_count": 9,
   "id": "flush-particle",
   "metadata": {},
   "outputs": [
    {
     "name": "stdout",
     "output_type": "stream",
     "text": [
      "{\n",
      "    \"created_at\": \"Tue Aug 01 16:23:56 +0000 2017\",\n",
      "    \"id\": 892420643555336193,\n",
      "    \"id_str\": \"892420643555336193\",\n",
      "    \"full_text\": \"This is Phineas. He's a mystical boy. Only ever appears in the hole of a donut. 13/10 https://t.co/MgUWQ76dJU\",\n",
      "    \"truncated\": false,\n",
      "    \"display_text_range\": [\n",
      "        0,\n",
      "        85\n",
      "    ],\n",
      "    \"entities\": {\n",
      "        \"hashtags\": [],\n",
      "        \"symbols\": [],\n",
      "        \"user_mentions\": [],\n",
      "        \"urls\": [],\n",
      "        \"media\": [\n",
      "            {\n",
      "                \"id\": 892420639486877696,\n",
      "                \"id_str\": \"892420639486877696\",\n",
      "                \"indices\": [\n",
      "                    86,\n",
      "                    109\n",
      "                ],\n",
      "                \"media_url\": \"http://pbs.twimg.com/media/DGKD1-bXoAAIAUK.jpg\",\n",
      "                \"media_url_https\": \"https://pbs.twimg.com/media/DGKD1-bXoAAIAUK.jpg\",\n",
      "                \"url\": \"https://t.co/MgUWQ76dJU\",\n",
      "                \"display_url\": \"pic.twitter.com/MgUWQ76dJU\",\n",
      "                \"expanded_url\": \"https://twitter.com/dog_rates/status/892420643555336193/photo/1\",\n",
      "                \"type\": \"photo\",\n",
      "                \"sizes\": {\n",
      "                    \"thumb\": {\n",
      "                        \"w\": 150,\n",
      "                        \"h\": 150,\n",
      "                        \"resize\": \"crop\"\n",
      "                    },\n",
      "                    \"medium\": {\n",
      "                        \"w\": 540,\n",
      "                        \"h\": 528,\n",
      "                        \"resize\": \"fit\"\n",
      "                    },\n",
      "                    \"small\": {\n",
      "                        \"w\": 540,\n",
      "                        \"h\": 528,\n",
      "                        \"resize\": \"fit\"\n",
      "                    },\n",
      "                    \"large\": {\n",
      "                        \"w\": 540,\n",
      "                        \"h\": 528,\n",
      "                        \"resize\": \"fit\"\n",
      "                    }\n",
      "                }\n",
      "            }\n",
      "        ]\n",
      "    },\n",
      "    \"extended_entities\": {\n",
      "        \"media\": [\n",
      "            {\n",
      "                \"id\": 892420639486877696,\n",
      "                \"id_str\": \"892420639486877696\",\n",
      "                \"indices\": [\n",
      "                    86,\n",
      "                    109\n",
      "                ],\n",
      "                \"media_url\": \"http://pbs.twimg.com/media/DGKD1-bXoAAIAUK.jpg\",\n",
      "                \"media_url_https\": \"https://pbs.twimg.com/media/DGKD1-bXoAAIAUK.jpg\",\n",
      "                \"url\": \"https://t.co/MgUWQ76dJU\",\n",
      "                \"display_url\": \"pic.twitter.com/MgUWQ76dJU\",\n",
      "                \"expanded_url\": \"https://twitter.com/dog_rates/status/892420643555336193/photo/1\",\n",
      "                \"type\": \"photo\",\n",
      "                \"sizes\": {\n",
      "                    \"thumb\": {\n",
      "                        \"w\": 150,\n",
      "                        \"h\": 150,\n",
      "                        \"resize\": \"crop\"\n",
      "                    },\n",
      "                    \"medium\": {\n",
      "                        \"w\": 540,\n",
      "                        \"h\": 528,\n",
      "                        \"resize\": \"fit\"\n",
      "                    },\n",
      "                    \"small\": {\n",
      "                        \"w\": 540,\n",
      "                        \"h\": 528,\n",
      "                        \"resize\": \"fit\"\n",
      "                    },\n",
      "                    \"large\": {\n",
      "                        \"w\": 540,\n",
      "                        \"h\": 528,\n",
      "                        \"resize\": \"fit\"\n",
      "                    }\n",
      "                }\n",
      "            }\n",
      "        ]\n",
      "    },\n",
      "    \"source\": \"<a href=\\\"http://twitter.com/download/iphone\\\" rel=\\\"nofollow\\\">Twitter for iPhone</a>\",\n",
      "    \"in_reply_to_status_id\": null,\n",
      "    \"in_reply_to_status_id_str\": null,\n",
      "    \"in_reply_to_user_id\": null,\n",
      "    \"in_reply_to_user_id_str\": null,\n",
      "    \"in_reply_to_screen_name\": null,\n",
      "    \"user\": {\n",
      "        \"id\": 4196983835,\n",
      "        \"id_str\": \"4196983835\",\n",
      "        \"name\": \"WeRateDogs\\u00ae\",\n",
      "        \"screen_name\": \"dog_rates\",\n",
      "        \"location\": \"links and things \\u279c\",\n",
      "        \"description\": \"Your Only Source For Professional Dog Ratings Instagram and Facebook \\u279c WeRateDogs partnerships@weratedogs.com \\u2800\\u2800\\u2800\\u2800\\u2800\\u2800\\u2800\\u2800\\u2800\\u2800\\u2800\\u2800\",\n",
      "        \"url\": \"https://t.co/6ytGi24QCk\",\n",
      "        \"entities\": {\n",
      "            \"url\": {\n",
      "                \"urls\": [\n",
      "                    {\n",
      "                        \"url\": \"https://t.co/6ytGi24QCk\",\n",
      "                        \"expanded_url\": \"http://campsite.bio/weratedogs\",\n",
      "                        \"display_url\": \"campsite.bio/weratedogs\",\n",
      "                        \"indices\": [\n",
      "                            0,\n",
      "                            23\n",
      "                        ]\n",
      "                    }\n",
      "                ]\n",
      "            },\n",
      "            \"description\": {\n",
      "                \"urls\": []\n",
      "            }\n",
      "        },\n",
      "        \"protected\": false,\n",
      "        \"followers_count\": 8993435,\n",
      "        \"friends_count\": 16,\n",
      "        \"listed_count\": 6501,\n",
      "        \"created_at\": \"Sun Nov 15 21:41:29 +0000 2015\",\n",
      "        \"favourites_count\": 145863,\n",
      "        \"utc_offset\": null,\n",
      "        \"time_zone\": null,\n",
      "        \"geo_enabled\": true,\n",
      "        \"verified\": true,\n",
      "        \"statuses_count\": 13611,\n",
      "        \"lang\": null,\n",
      "        \"contributors_enabled\": false,\n",
      "        \"is_translator\": false,\n",
      "        \"is_translation_enabled\": false,\n",
      "        \"profile_background_color\": \"000000\",\n",
      "        \"profile_background_image_url\": \"http://abs.twimg.com/images/themes/theme1/bg.png\",\n",
      "        \"profile_background_image_url_https\": \"https://abs.twimg.com/images/themes/theme1/bg.png\",\n",
      "        \"profile_background_tile\": false,\n",
      "        \"profile_image_url\": \"http://pbs.twimg.com/profile_images/1351720980972933122/I3MnYUdm_normal.jpg\",\n",
      "        \"profile_image_url_https\": \"https://pbs.twimg.com/profile_images/1351720980972933122/I3MnYUdm_normal.jpg\",\n",
      "        \"profile_banner_url\": \"https://pbs.twimg.com/profile_banners/4196983835/1611883974\",\n",
      "        \"profile_link_color\": \"F5ABB5\",\n",
      "        \"profile_sidebar_border_color\": \"000000\",\n",
      "        \"profile_sidebar_fill_color\": \"000000\",\n",
      "        \"profile_text_color\": \"000000\",\n",
      "        \"profile_use_background_image\": false,\n",
      "        \"has_extended_profile\": false,\n",
      "        \"default_profile\": false,\n",
      "        \"default_profile_image\": false,\n",
      "        \"following\": false,\n",
      "        \"follow_request_sent\": false,\n",
      "        \"notifications\": false,\n",
      "        \"translator_type\": \"none\"\n",
      "    },\n",
      "    \"geo\": null,\n",
      "    \"coordinates\": null,\n",
      "    \"place\": null,\n",
      "    \"contributors\": null,\n",
      "    \"is_quote_status\": false,\n",
      "    \"retweet_count\": 7333,\n",
      "    \"favorite_count\": 34950,\n",
      "    \"favorited\": false,\n",
      "    \"retweeted\": false,\n",
      "    \"possibly_sensitive\": false,\n",
      "    \"possibly_sensitive_appealable\": false,\n",
      "    \"lang\": \"en\"\n",
      "}\n"
     ]
    }
   ],
   "source": [
    "# pretty print to visualise locations of the desired entities in json\n",
    "with open('tweet_json.txt') as json_file:\n",
    "    parsed = json.loads(json_file.readline())\n",
    "    print(json.dumps(parsed, indent=4))"
   ]
  },
  {
   "cell_type": "code",
   "execution_count": 10,
   "id": "alternate-prime",
   "metadata": {},
   "outputs": [],
   "source": [
    "# make a pandas dataframe of tweet ID, retweet count, and favorite count\n",
    "with open('tweet_json.txt', 'r') as json_file:\n",
    "    li = [[\n",
    "        json.loads(line)['id_str'],\n",
    "        json.loads(line)['retweet_count'],\n",
    "        json.loads(line)['favorite_count']\n",
    "    ] for line in json_file]\n",
    "\n",
    "twtdata = pd.DataFrame(li, columns=['tweet_id', 'num_retweet', 'num_favorite'])"
   ]
  },
  {
   "cell_type": "code",
   "execution_count": 11,
   "id": "british-serial",
   "metadata": {},
   "outputs": [
    {
     "data": {
      "text/html": [
       "<div>\n",
       "<style scoped>\n",
       "    .dataframe tbody tr th:only-of-type {\n",
       "        vertical-align: middle;\n",
       "    }\n",
       "\n",
       "    .dataframe tbody tr th {\n",
       "        vertical-align: top;\n",
       "    }\n",
       "\n",
       "    .dataframe thead th {\n",
       "        text-align: right;\n",
       "    }\n",
       "</style>\n",
       "<table border=\"1\" class=\"dataframe\">\n",
       "  <thead>\n",
       "    <tr style=\"text-align: right;\">\n",
       "      <th></th>\n",
       "      <th>tweet_id</th>\n",
       "      <th>in_reply_to_status_id</th>\n",
       "      <th>in_reply_to_user_id</th>\n",
       "      <th>timestamp</th>\n",
       "      <th>source</th>\n",
       "      <th>text</th>\n",
       "      <th>retweeted_status_id</th>\n",
       "      <th>retweeted_status_user_id</th>\n",
       "      <th>retweeted_status_timestamp</th>\n",
       "      <th>expanded_urls</th>\n",
       "      <th>rating_numerator</th>\n",
       "      <th>rating_denominator</th>\n",
       "      <th>name</th>\n",
       "      <th>doggo</th>\n",
       "      <th>floofer</th>\n",
       "      <th>pupper</th>\n",
       "      <th>puppo</th>\n",
       "    </tr>\n",
       "  </thead>\n",
       "  <tbody>\n",
       "    <tr>\n",
       "      <th>1178</th>\n",
       "      <td>719551379208073216</td>\n",
       "      <td>NaN</td>\n",
       "      <td>NaN</td>\n",
       "      <td>2016-04-11 15:43:12 +0000</td>\n",
       "      <td>&lt;a href=\"http://twitter.com/download/iphone\" r...</td>\n",
       "      <td>This is Harnold. He accidentally opened the fr...</td>\n",
       "      <td>NaN</td>\n",
       "      <td>NaN</td>\n",
       "      <td>NaN</td>\n",
       "      <td>https://twitter.com/dog_rates/status/719551379...</td>\n",
       "      <td>10</td>\n",
       "      <td>10</td>\n",
       "      <td>Harnold</td>\n",
       "      <td>None</td>\n",
       "      <td>None</td>\n",
       "      <td>None</td>\n",
       "      <td>None</td>\n",
       "    </tr>\n",
       "    <tr>\n",
       "      <th>1377</th>\n",
       "      <td>701601587219795968</td>\n",
       "      <td>NaN</td>\n",
       "      <td>NaN</td>\n",
       "      <td>2016-02-22 02:57:08 +0000</td>\n",
       "      <td>&lt;a href=\"http://twitter.com/download/iphone\" r...</td>\n",
       "      <td>This is Coopson. He's a Blingin Schnitzel. Bui...</td>\n",
       "      <td>NaN</td>\n",
       "      <td>NaN</td>\n",
       "      <td>NaN</td>\n",
       "      <td>https://twitter.com/dog_rates/status/701601587...</td>\n",
       "      <td>10</td>\n",
       "      <td>10</td>\n",
       "      <td>Coopson</td>\n",
       "      <td>None</td>\n",
       "      <td>None</td>\n",
       "      <td>None</td>\n",
       "      <td>None</td>\n",
       "    </tr>\n",
       "    <tr>\n",
       "      <th>873</th>\n",
       "      <td>761334018830917632</td>\n",
       "      <td>NaN</td>\n",
       "      <td>NaN</td>\n",
       "      <td>2016-08-04 22:52:29 +0000</td>\n",
       "      <td>&lt;a href=\"http://twitter.com/download/iphone\" r...</td>\n",
       "      <td>This is Bruce. I really want to hear the joke ...</td>\n",
       "      <td>NaN</td>\n",
       "      <td>NaN</td>\n",
       "      <td>NaN</td>\n",
       "      <td>https://twitter.com/dog_rates/status/761334018...</td>\n",
       "      <td>10</td>\n",
       "      <td>10</td>\n",
       "      <td>Bruce</td>\n",
       "      <td>None</td>\n",
       "      <td>None</td>\n",
       "      <td>None</td>\n",
       "      <td>None</td>\n",
       "    </tr>\n",
       "    <tr>\n",
       "      <th>486</th>\n",
       "      <td>814530161257443328</td>\n",
       "      <td>NaN</td>\n",
       "      <td>NaN</td>\n",
       "      <td>2016-12-29 17:54:58 +0000</td>\n",
       "      <td>&lt;a href=\"http://twitter.com/download/iphone\" r...</td>\n",
       "      <td>This is Alf. Someone just rubbed a balloon on ...</td>\n",
       "      <td>NaN</td>\n",
       "      <td>NaN</td>\n",
       "      <td>NaN</td>\n",
       "      <td>https://twitter.com/dog_rates/status/814530161...</td>\n",
       "      <td>12</td>\n",
       "      <td>10</td>\n",
       "      <td>Alf</td>\n",
       "      <td>None</td>\n",
       "      <td>None</td>\n",
       "      <td>None</td>\n",
       "      <td>None</td>\n",
       "    </tr>\n",
       "    <tr>\n",
       "      <th>2245</th>\n",
       "      <td>667885044254572545</td>\n",
       "      <td>NaN</td>\n",
       "      <td>NaN</td>\n",
       "      <td>2015-11-21 01:59:37 +0000</td>\n",
       "      <td>&lt;a href=\"http://twitter.com/download/iphone\" r...</td>\n",
       "      <td>Meet Stu. Stu has stacks on stacks and an eye ...</td>\n",
       "      <td>NaN</td>\n",
       "      <td>NaN</td>\n",
       "      <td>NaN</td>\n",
       "      <td>https://twitter.com/dog_rates/status/667885044...</td>\n",
       "      <td>10</td>\n",
       "      <td>10</td>\n",
       "      <td>Stu</td>\n",
       "      <td>None</td>\n",
       "      <td>None</td>\n",
       "      <td>None</td>\n",
       "      <td>None</td>\n",
       "    </tr>\n",
       "  </tbody>\n",
       "</table>\n",
       "</div>"
      ],
      "text/plain": [
       "                tweet_id  in_reply_to_status_id  in_reply_to_user_id  \\\n",
       "1178  719551379208073216                    NaN                  NaN   \n",
       "1377  701601587219795968                    NaN                  NaN   \n",
       "873   761334018830917632                    NaN                  NaN   \n",
       "486   814530161257443328                    NaN                  NaN   \n",
       "2245  667885044254572545                    NaN                  NaN   \n",
       "\n",
       "                      timestamp  \\\n",
       "1178  2016-04-11 15:43:12 +0000   \n",
       "1377  2016-02-22 02:57:08 +0000   \n",
       "873   2016-08-04 22:52:29 +0000   \n",
       "486   2016-12-29 17:54:58 +0000   \n",
       "2245  2015-11-21 01:59:37 +0000   \n",
       "\n",
       "                                                 source  \\\n",
       "1178  <a href=\"http://twitter.com/download/iphone\" r...   \n",
       "1377  <a href=\"http://twitter.com/download/iphone\" r...   \n",
       "873   <a href=\"http://twitter.com/download/iphone\" r...   \n",
       "486   <a href=\"http://twitter.com/download/iphone\" r...   \n",
       "2245  <a href=\"http://twitter.com/download/iphone\" r...   \n",
       "\n",
       "                                                   text  retweeted_status_id  \\\n",
       "1178  This is Harnold. He accidentally opened the fr...                  NaN   \n",
       "1377  This is Coopson. He's a Blingin Schnitzel. Bui...                  NaN   \n",
       "873   This is Bruce. I really want to hear the joke ...                  NaN   \n",
       "486   This is Alf. Someone just rubbed a balloon on ...                  NaN   \n",
       "2245  Meet Stu. Stu has stacks on stacks and an eye ...                  NaN   \n",
       "\n",
       "      retweeted_status_user_id retweeted_status_timestamp  \\\n",
       "1178                       NaN                        NaN   \n",
       "1377                       NaN                        NaN   \n",
       "873                        NaN                        NaN   \n",
       "486                        NaN                        NaN   \n",
       "2245                       NaN                        NaN   \n",
       "\n",
       "                                          expanded_urls  rating_numerator  \\\n",
       "1178  https://twitter.com/dog_rates/status/719551379...                10   \n",
       "1377  https://twitter.com/dog_rates/status/701601587...                10   \n",
       "873   https://twitter.com/dog_rates/status/761334018...                10   \n",
       "486   https://twitter.com/dog_rates/status/814530161...                12   \n",
       "2245  https://twitter.com/dog_rates/status/667885044...                10   \n",
       "\n",
       "      rating_denominator     name doggo floofer pupper puppo  \n",
       "1178                  10  Harnold  None    None   None  None  \n",
       "1377                  10  Coopson  None    None   None  None  \n",
       "873                   10    Bruce  None    None   None  None  \n",
       "486                   10      Alf  None    None   None  None  \n",
       "2245                  10      Stu  None    None   None  None  "
      ]
     },
     "execution_count": 11,
     "metadata": {},
     "output_type": "execute_result"
    }
   ],
   "source": [
    "# inspect the dataframes:\n",
    "twtarch.sample(5)"
   ]
  },
  {
   "cell_type": "code",
   "execution_count": 12,
   "id": "minor-kelly",
   "metadata": {},
   "outputs": [
    {
     "name": "stdout",
     "output_type": "stream",
     "text": [
      "<class 'pandas.core.frame.DataFrame'>\n",
      "RangeIndex: 2356 entries, 0 to 2355\n",
      "Data columns (total 17 columns):\n",
      " #   Column                      Non-Null Count  Dtype  \n",
      "---  ------                      --------------  -----  \n",
      " 0   tweet_id                    2356 non-null   int64  \n",
      " 1   in_reply_to_status_id       78 non-null     float64\n",
      " 2   in_reply_to_user_id         78 non-null     float64\n",
      " 3   timestamp                   2356 non-null   object \n",
      " 4   source                      2356 non-null   object \n",
      " 5   text                        2356 non-null   object \n",
      " 6   retweeted_status_id         181 non-null    float64\n",
      " 7   retweeted_status_user_id    181 non-null    float64\n",
      " 8   retweeted_status_timestamp  181 non-null    object \n",
      " 9   expanded_urls               2297 non-null   object \n",
      " 10  rating_numerator            2356 non-null   int64  \n",
      " 11  rating_denominator          2356 non-null   int64  \n",
      " 12  name                        2356 non-null   object \n",
      " 13  doggo                       2356 non-null   object \n",
      " 14  floofer                     2356 non-null   object \n",
      " 15  pupper                      2356 non-null   object \n",
      " 16  puppo                       2356 non-null   object \n",
      "dtypes: float64(4), int64(3), object(10)\n",
      "memory usage: 313.0+ KB\n"
     ]
    }
   ],
   "source": [
    "twtarch.info()"
   ]
  },
  {
   "cell_type": "markdown",
   "id": "spare-nickname",
   "metadata": {},
   "source": [
    "<a id='issuesI'></a>\n",
    "#### Issues with The WeRateDogs Twitter Archive dataframe\n",
    "\n",
    "1. The $tweet\\_id$ column should be object (string) type;\n",
    "2. There are 78 entries that are in reply to a status or a user - these should be removed together with the columns;\n",
    "3. The $timestamp$ column should be of datatime type\n",
    "4. There are 181 entries that are retweets - these should be removed together with the columns;\n",
    "5. There are a total of 14 rows that have multiple choices of Dogtionary, and these need to be corrected;\n",
    "6. The four Dogtionary columns can be merged into one."
   ]
  },
  {
   "cell_type": "code",
   "execution_count": 13,
   "id": "african-vertical",
   "metadata": {},
   "outputs": [
    {
     "data": {
      "text/plain": [
       "14"
      ]
     },
     "execution_count": 13,
     "metadata": {},
     "output_type": "execute_result"
    }
   ],
   "source": [
    "# rows that have multiple choices of Dogtionary (i.e. having a 'None' for less than 3 instances)\n",
    "((twtarch[['doggo', 'floofer', 'pupper', 'puppo']].values\n",
    "  == 'None').sum(axis=1) < 3).sum()"
   ]
  },
  {
   "cell_type": "code",
   "execution_count": 14,
   "id": "monthly-legend",
   "metadata": {},
   "outputs": [
    {
     "data": {
      "text/plain": [
       "\"At first I thought this was a shy doggo, but it's actually a Rare Canadian Floofer Owl. Amateurs would confuse the two. 11/10 only send dogs https://t.co/TXdT3tmuYk\""
      ]
     },
     "execution_count": 14,
     "metadata": {},
     "output_type": "execute_result"
    }
   ],
   "source": [
    "# Take an example - it appears that for this tweet it should be floofer only:\n",
    "twtarch['text'][200]"
   ]
  },
  {
   "cell_type": "code",
   "execution_count": 15,
   "id": "standing-coordinator",
   "metadata": {},
   "outputs": [
    {
     "data": {
      "text/html": [
       "<div>\n",
       "<style scoped>\n",
       "    .dataframe tbody tr th:only-of-type {\n",
       "        vertical-align: middle;\n",
       "    }\n",
       "\n",
       "    .dataframe tbody tr th {\n",
       "        vertical-align: top;\n",
       "    }\n",
       "\n",
       "    .dataframe thead th {\n",
       "        text-align: right;\n",
       "    }\n",
       "</style>\n",
       "<table border=\"1\" class=\"dataframe\">\n",
       "  <thead>\n",
       "    <tr style=\"text-align: right;\">\n",
       "      <th></th>\n",
       "      <th>tweet_id</th>\n",
       "      <th>jpg_url</th>\n",
       "      <th>img_num</th>\n",
       "      <th>p1</th>\n",
       "      <th>p1_conf</th>\n",
       "      <th>p1_dog</th>\n",
       "      <th>p2</th>\n",
       "      <th>p2_conf</th>\n",
       "      <th>p2_dog</th>\n",
       "      <th>p3</th>\n",
       "      <th>p3_conf</th>\n",
       "      <th>p3_dog</th>\n",
       "    </tr>\n",
       "  </thead>\n",
       "  <tbody>\n",
       "    <tr>\n",
       "      <th>209</th>\n",
       "      <td>669972011175813120</td>\n",
       "      <td>https://pbs.twimg.com/media/CUw3_QiUEAA8cT9.jpg</td>\n",
       "      <td>1</td>\n",
       "      <td>teddy</td>\n",
       "      <td>0.953071</td>\n",
       "      <td>False</td>\n",
       "      <td>koala</td>\n",
       "      <td>0.007027</td>\n",
       "      <td>False</td>\n",
       "      <td>fur_coat</td>\n",
       "      <td>0.005368</td>\n",
       "      <td>False</td>\n",
       "    </tr>\n",
       "    <tr>\n",
       "      <th>1991</th>\n",
       "      <td>873580283840344065</td>\n",
       "      <td>https://pbs.twimg.com/media/DB-UotKXkAEHXVi.jpg</td>\n",
       "      <td>1</td>\n",
       "      <td>Newfoundland</td>\n",
       "      <td>0.678537</td>\n",
       "      <td>True</td>\n",
       "      <td>Tibetan_mastiff</td>\n",
       "      <td>0.244022</td>\n",
       "      <td>True</td>\n",
       "      <td>chow</td>\n",
       "      <td>0.048530</td>\n",
       "      <td>True</td>\n",
       "    </tr>\n",
       "    <tr>\n",
       "      <th>1218</th>\n",
       "      <td>743609206067040256</td>\n",
       "      <td>https://pbs.twimg.com/media/ClHUkhQWAAAy7Yj.jpg</td>\n",
       "      <td>3</td>\n",
       "      <td>Weimaraner</td>\n",
       "      <td>0.982794</td>\n",
       "      <td>True</td>\n",
       "      <td>American_Staffordshire_terrier</td>\n",
       "      <td>0.004766</td>\n",
       "      <td>True</td>\n",
       "      <td>Great_Dane</td>\n",
       "      <td>0.003432</td>\n",
       "      <td>True</td>\n",
       "    </tr>\n",
       "    <tr>\n",
       "      <th>262</th>\n",
       "      <td>670789397210615808</td>\n",
       "      <td>https://pbs.twimg.com/media/CU8fZSQWoAEVp6O.jpg</td>\n",
       "      <td>1</td>\n",
       "      <td>beagle</td>\n",
       "      <td>0.295966</td>\n",
       "      <td>True</td>\n",
       "      <td>basset</td>\n",
       "      <td>0.143527</td>\n",
       "      <td>True</td>\n",
       "      <td>bluetick</td>\n",
       "      <td>0.138992</td>\n",
       "      <td>True</td>\n",
       "    </tr>\n",
       "    <tr>\n",
       "      <th>478</th>\n",
       "      <td>675334060156301312</td>\n",
       "      <td>https://pbs.twimg.com/media/CV9EvZNUwAAgLCK.jpg</td>\n",
       "      <td>2</td>\n",
       "      <td>Pembroke</td>\n",
       "      <td>0.773135</td>\n",
       "      <td>True</td>\n",
       "      <td>Cardigan</td>\n",
       "      <td>0.116810</td>\n",
       "      <td>True</td>\n",
       "      <td>chow</td>\n",
       "      <td>0.039036</td>\n",
       "      <td>True</td>\n",
       "    </tr>\n",
       "  </tbody>\n",
       "</table>\n",
       "</div>"
      ],
      "text/plain": [
       "                tweet_id                                          jpg_url  \\\n",
       "209   669972011175813120  https://pbs.twimg.com/media/CUw3_QiUEAA8cT9.jpg   \n",
       "1991  873580283840344065  https://pbs.twimg.com/media/DB-UotKXkAEHXVi.jpg   \n",
       "1218  743609206067040256  https://pbs.twimg.com/media/ClHUkhQWAAAy7Yj.jpg   \n",
       "262   670789397210615808  https://pbs.twimg.com/media/CU8fZSQWoAEVp6O.jpg   \n",
       "478   675334060156301312  https://pbs.twimg.com/media/CV9EvZNUwAAgLCK.jpg   \n",
       "\n",
       "      img_num            p1   p1_conf  p1_dog                              p2  \\\n",
       "209         1         teddy  0.953071   False                           koala   \n",
       "1991        1  Newfoundland  0.678537    True                 Tibetan_mastiff   \n",
       "1218        3    Weimaraner  0.982794    True  American_Staffordshire_terrier   \n",
       "262         1        beagle  0.295966    True                          basset   \n",
       "478         2      Pembroke  0.773135    True                        Cardigan   \n",
       "\n",
       "       p2_conf  p2_dog          p3   p3_conf  p3_dog  \n",
       "209   0.007027   False    fur_coat  0.005368   False  \n",
       "1991  0.244022    True        chow  0.048530    True  \n",
       "1218  0.004766    True  Great_Dane  0.003432    True  \n",
       "262   0.143527    True    bluetick  0.138992    True  \n",
       "478   0.116810    True        chow  0.039036    True  "
      ]
     },
     "execution_count": 15,
     "metadata": {},
     "output_type": "execute_result"
    }
   ],
   "source": [
    "imgpred.sample(5)"
   ]
  },
  {
   "cell_type": "code",
   "execution_count": 16,
   "id": "retired-minority",
   "metadata": {},
   "outputs": [
    {
     "name": "stdout",
     "output_type": "stream",
     "text": [
      "<class 'pandas.core.frame.DataFrame'>\n",
      "RangeIndex: 2075 entries, 0 to 2074\n",
      "Data columns (total 12 columns):\n",
      " #   Column    Non-Null Count  Dtype  \n",
      "---  ------    --------------  -----  \n",
      " 0   tweet_id  2075 non-null   int64  \n",
      " 1   jpg_url   2075 non-null   object \n",
      " 2   img_num   2075 non-null   int64  \n",
      " 3   p1        2075 non-null   object \n",
      " 4   p1_conf   2075 non-null   float64\n",
      " 5   p1_dog    2075 non-null   bool   \n",
      " 6   p2        2075 non-null   object \n",
      " 7   p2_conf   2075 non-null   float64\n",
      " 8   p2_dog    2075 non-null   bool   \n",
      " 9   p3        2075 non-null   object \n",
      " 10  p3_conf   2075 non-null   float64\n",
      " 11  p3_dog    2075 non-null   bool   \n",
      "dtypes: bool(3), float64(3), int64(2), object(4)\n",
      "memory usage: 152.1+ KB\n"
     ]
    }
   ],
   "source": [
    "imgpred.info()"
   ]
  },
  {
   "cell_type": "markdown",
   "id": "domestic-potter",
   "metadata": {},
   "source": [
    "<a id='issuesII'></a>\n",
    "#### Issues with The Tweet Image Predictions dataframe\n",
    "\n",
    "1. Again, the $tweet\\_id$ column should be Object (string) type;\n",
    "2. There are 324 rows where none of the predicted breed is a dog's, and so need to drop these rows;\n",
    "3. The three breed predictions along with the conf level and whether the breed is a dog need to be combined into one most likely dog breed;  \n",
    "4. There are fewer tweet IDs (2075 records) in this dataframe than there are (2356 records, pre-cleaning) in the archive dataframe."
   ]
  },
  {
   "cell_type": "code",
   "execution_count": 17,
   "id": "wicked-earth",
   "metadata": {},
   "outputs": [
    {
     "data": {
      "text/plain": [
       "324"
      ]
     },
     "execution_count": 17,
     "metadata": {},
     "output_type": "execute_result"
    }
   ],
   "source": [
    "# number of rows that have all predicted breed not belonging to dog's\n",
    "((imgpred[['p1_dog', 'p2_dog', 'p3_dog']] == False).sum(axis=1) == 3).sum()"
   ]
  },
  {
   "cell_type": "code",
   "execution_count": 18,
   "id": "palestinian-inclusion",
   "metadata": {},
   "outputs": [
    {
     "data": {
      "image/png": "[encoded data removed]",
      "text/plain": [
       "<Figure size 432x288 with 1 Axes>"
      ]
     },
     "metadata": {
      "needs_background": "light"
     },
     "output_type": "display_data"
    }
   ],
   "source": [
    "imgpred[['p1_conf', 'p2_conf', 'p3_conf']].plot(kind='box')"
   ]
  },
  {
   "cell_type": "code",
   "execution_count": 19,
   "id": "prepared-proceeding",
   "metadata": {},
   "outputs": [
    {
     "data": {
      "text/html": [
       "<div>\n",
       "<style scoped>\n",
       "    .dataframe tbody tr th:only-of-type {\n",
       "        vertical-align: middle;\n",
       "    }\n",
       "\n",
       "    .dataframe tbody tr th {\n",
       "        vertical-align: top;\n",
       "    }\n",
       "\n",
       "    .dataframe thead th {\n",
       "        text-align: right;\n",
       "    }\n",
       "</style>\n",
       "<table border=\"1\" class=\"dataframe\">\n",
       "  <thead>\n",
       "    <tr style=\"text-align: right;\">\n",
       "      <th></th>\n",
       "      <th>tweet_id</th>\n",
       "      <th>num_retweet</th>\n",
       "      <th>num_favorite</th>\n",
       "    </tr>\n",
       "  </thead>\n",
       "  <tbody>\n",
       "    <tr>\n",
       "      <th>2330</th>\n",
       "      <td>666020888022790149</td>\n",
       "      <td>442</td>\n",
       "      <td>2340</td>\n",
       "    </tr>\n",
       "    <tr>\n",
       "      <th>785</th>\n",
       "      <td>772114945936949249</td>\n",
       "      <td>457</td>\n",
       "      <td>2666</td>\n",
       "    </tr>\n",
       "    <tr>\n",
       "      <th>1429</th>\n",
       "      <td>695629776980148225</td>\n",
       "      <td>1996</td>\n",
       "      <td>4378</td>\n",
       "    </tr>\n",
       "    <tr>\n",
       "      <th>499</th>\n",
       "      <td>810984652412424192</td>\n",
       "      <td>1391</td>\n",
       "      <td>5219</td>\n",
       "    </tr>\n",
       "    <tr>\n",
       "      <th>1355</th>\n",
       "      <td>701545186879471618</td>\n",
       "      <td>581</td>\n",
       "      <td>2562</td>\n",
       "    </tr>\n",
       "  </tbody>\n",
       "</table>\n",
       "</div>"
      ],
      "text/plain": [
       "                tweet_id  num_retweet  num_favorite\n",
       "2330  666020888022790149          442          2340\n",
       "785   772114945936949249          457          2666\n",
       "1429  695629776980148225         1996          4378\n",
       "499   810984652412424192         1391          5219\n",
       "1355  701545186879471618          581          2562"
      ]
     },
     "execution_count": 19,
     "metadata": {},
     "output_type": "execute_result"
    }
   ],
   "source": [
    "twtdata.sample(5)"
   ]
  },
  {
   "cell_type": "code",
   "execution_count": 20,
   "id": "lined-findings",
   "metadata": {},
   "outputs": [
    {
     "name": "stdout",
     "output_type": "stream",
     "text": [
      "<class 'pandas.core.frame.DataFrame'>\n",
      "RangeIndex: 2331 entries, 0 to 2330\n",
      "Data columns (total 3 columns):\n",
      " #   Column        Non-Null Count  Dtype \n",
      "---  ------        --------------  ----- \n",
      " 0   tweet_id      2331 non-null   object\n",
      " 1   num_retweet   2331 non-null   int64 \n",
      " 2   num_favorite  2331 non-null   int64 \n",
      "dtypes: int64(2), object(1)\n",
      "memory usage: 54.8+ KB\n"
     ]
    }
   ],
   "source": [
    "twtdata.info()"
   ]
  },
  {
   "cell_type": "code",
   "execution_count": 21,
   "id": "aggressive-central",
   "metadata": {},
   "outputs": [
    {
     "data": {
      "text/html": [
       "<div>\n",
       "<style scoped>\n",
       "    .dataframe tbody tr th:only-of-type {\n",
       "        vertical-align: middle;\n",
       "    }\n",
       "\n",
       "    .dataframe tbody tr th {\n",
       "        vertical-align: top;\n",
       "    }\n",
       "\n",
       "    .dataframe thead th {\n",
       "        text-align: right;\n",
       "    }\n",
       "</style>\n",
       "<table border=\"1\" class=\"dataframe\">\n",
       "  <thead>\n",
       "    <tr style=\"text-align: right;\">\n",
       "      <th></th>\n",
       "      <th>num_retweet</th>\n",
       "      <th>num_favorite</th>\n",
       "    </tr>\n",
       "  </thead>\n",
       "  <tbody>\n",
       "    <tr>\n",
       "      <th>count</th>\n",
       "      <td>2331.000000</td>\n",
       "      <td>2331.000000</td>\n",
       "    </tr>\n",
       "    <tr>\n",
       "      <th>mean</th>\n",
       "      <td>2581.524239</td>\n",
       "      <td>7296.584728</td>\n",
       "    </tr>\n",
       "    <tr>\n",
       "      <th>std</th>\n",
       "      <td>4366.405524</td>\n",
       "      <td>11334.092658</td>\n",
       "    </tr>\n",
       "    <tr>\n",
       "      <th>min</th>\n",
       "      <td>1.000000</td>\n",
       "      <td>0.000000</td>\n",
       "    </tr>\n",
       "    <tr>\n",
       "      <th>25%</th>\n",
       "      <td>524.000000</td>\n",
       "      <td>1262.000000</td>\n",
       "    </tr>\n",
       "    <tr>\n",
       "      <th>50%</th>\n",
       "      <td>1204.000000</td>\n",
       "      <td>3161.000000</td>\n",
       "    </tr>\n",
       "    <tr>\n",
       "      <th>75%</th>\n",
       "      <td>2987.000000</td>\n",
       "      <td>8921.500000</td>\n",
       "    </tr>\n",
       "    <tr>\n",
       "      <th>max</th>\n",
       "      <td>74081.000000</td>\n",
       "      <td>150138.000000</td>\n",
       "    </tr>\n",
       "  </tbody>\n",
       "</table>\n",
       "</div>"
      ],
      "text/plain": [
       "        num_retweet   num_favorite\n",
       "count   2331.000000    2331.000000\n",
       "mean    2581.524239    7296.584728\n",
       "std     4366.405524   11334.092658\n",
       "min        1.000000       0.000000\n",
       "25%      524.000000    1262.000000\n",
       "50%     1204.000000    3161.000000\n",
       "75%     2987.000000    8921.500000\n",
       "max    74081.000000  150138.000000"
      ]
     },
     "execution_count": 21,
     "metadata": {},
     "output_type": "execute_result"
    }
   ],
   "source": [
    "twtdata.describe()"
   ]
  },
  {
   "cell_type": "code",
   "execution_count": 22,
   "id": "headed-grant",
   "metadata": {},
   "outputs": [
    {
     "data": {
      "text/html": [
       "<div>\n",
       "<style scoped>\n",
       "    .dataframe tbody tr th:only-of-type {\n",
       "        vertical-align: middle;\n",
       "    }\n",
       "\n",
       "    .dataframe tbody tr th {\n",
       "        vertical-align: top;\n",
       "    }\n",
       "\n",
       "    .dataframe thead th {\n",
       "        text-align: right;\n",
       "    }\n",
       "</style>\n",
       "<table border=\"1\" class=\"dataframe\">\n",
       "  <thead>\n",
       "    <tr style=\"text-align: right;\">\n",
       "      <th></th>\n",
       "      <th>tweet_id</th>\n",
       "      <th>num_retweet</th>\n",
       "      <th>num_favorite</th>\n",
       "    </tr>\n",
       "  </thead>\n",
       "  <tbody>\n",
       "    <tr>\n",
       "      <th>1015</th>\n",
       "      <td>744234799360020481</td>\n",
       "      <td>74081</td>\n",
       "      <td>150138</td>\n",
       "    </tr>\n",
       "  </tbody>\n",
       "</table>\n",
       "</div>"
      ],
      "text/plain": [
       "                tweet_id  num_retweet  num_favorite\n",
       "1015  744234799360020481        74081        150138"
      ]
     },
     "execution_count": 22,
     "metadata": {},
     "output_type": "execute_result"
    }
   ],
   "source": [
    "twtdata[twtdata['num_favorite'] == 150138]"
   ]
  },
  {
   "cell_type": "markdown",
   "id": "joint-addition",
   "metadata": {},
   "source": [
    "<a id='issuesIII'></a>\n",
    "#### Issues with The Tweet Data dataframe\n",
    "\n",
    "1. Information about one type of observational unit (tweets) is spread across three different files/dataframes."
   ]
  },
  {
   "cell_type": "markdown",
   "id": "latter-chinese",
   "metadata": {},
   "source": [
    "<a id='Clean'></a>\n",
    "### Clean"
   ]
  },
  {
   "cell_type": "markdown",
   "id": "impressed-domain",
   "metadata": {},
   "source": [
    "<a id='Summary'></a>\n",
    "#### Summary\n",
    "\n",
    " - ##### Quality Issues:\n",
    "1. The $tweet\\_id$ column in archive dataframe should be object (string) type;\n",
    "2. The $timestamp$ column should be of datatime type;\n",
    "3. There are 78 entries that are in reply to a status or a user - these should be removed together with the columns;\n",
    "4. There are 181 entries that are retweets - these should be removed together with the columns;\n",
    "5. The rating value columns are probably not accurate in the first place so need to be read in from text to double check;\n",
    "6. There are a total of 14 rows that have multiple choices of Dogtionary, and these need to be corrected;\n",
    "7. The $tweet\\_id$ column in predictions dataframe should be Object (string) type;\n",
    "8. There are 324 rows where none of the predicted breed is a dog's, and so need to drop these rows;\n",
    "9. The three breed predictions along with the conf level and whether the breed is a dog need to be combined into one most likely dog breed.\n",
    "\n",
    " - ##### Tidiness Issues:\n",
    "1. The four Dogtionary columns in archive dataframe can be merged into one;\n",
    "2. Information about one type of observational unit (tweets) is spread across three different files/dataframes. Therefore all dataframes should be merged together."
   ]
  },
  {
   "cell_type": "markdown",
   "id": "disabled-falls",
   "metadata": {},
   "source": [
    "<a id='Address'></a>\n",
    "#### Addressing the Issues"
   ]
  },
  {
   "cell_type": "code",
   "execution_count": 23,
   "id": "swedish-estimate",
   "metadata": {},
   "outputs": [],
   "source": [
    "twtarch_clean = twtarch.copy()\n",
    "imgpred_clean = imgpred.copy()\n",
    "twtdata_clean = twtdata.copy()"
   ]
  },
  {
   "cell_type": "markdown",
   "id": "hazardous-howard",
   "metadata": {},
   "source": [
    "Quality issue 1 - The $tweet\\_id$ column in archive dataframe should be object (string) type."
   ]
  },
  {
   "cell_type": "code",
   "execution_count": 24,
   "id": "warming-eligibility",
   "metadata": {},
   "outputs": [],
   "source": [
    "twtarch_clean['tweet_id'] = twtarch_clean['tweet_id'].astype('str')"
   ]
  },
  {
   "cell_type": "markdown",
   "id": "warming-ridge",
   "metadata": {},
   "source": [
    "Test the data type"
   ]
  },
  {
   "cell_type": "code",
   "execution_count": 25,
   "id": "strange-slovenia",
   "metadata": {},
   "outputs": [
    {
     "data": {
      "text/plain": [
       "dtype('O')"
      ]
     },
     "execution_count": 25,
     "metadata": {},
     "output_type": "execute_result"
    }
   ],
   "source": [
    "twtarch_clean['tweet_id'].dtype"
   ]
  },
  {
   "cell_type": "markdown",
   "id": "flush-hacker",
   "metadata": {},
   "source": [
    "Quality issue 2 - The $timestamp$ column should be of datatime type"
   ]
  },
  {
   "cell_type": "code",
   "execution_count": 26,
   "id": "challenging-moderator",
   "metadata": {},
   "outputs": [],
   "source": [
    "twtarch_clean['timestamp'] = pd.to_datetime(twtarch_clean['timestamp'])"
   ]
  },
  {
   "cell_type": "markdown",
   "id": "severe-monday",
   "metadata": {},
   "source": [
    "Test the data type"
   ]
  },
  {
   "cell_type": "code",
   "execution_count": 27,
   "id": "headed-arrangement",
   "metadata": {},
   "outputs": [
    {
     "data": {
      "text/plain": [
       "datetime64[ns, UTC]"
      ]
     },
     "execution_count": 27,
     "metadata": {},
     "output_type": "execute_result"
    }
   ],
   "source": [
    "twtarch_clean['timestamp'].dtype"
   ]
  },
  {
   "cell_type": "markdown",
   "id": "attempted-master",
   "metadata": {},
   "source": [
    "Quality issue 3 - There are 78 entries that are in reply to a status or a user. These should be removed together with the columns."
   ]
  },
  {
   "cell_type": "code",
   "execution_count": 28,
   "id": "secret-generation",
   "metadata": {},
   "outputs": [],
   "source": [
    "twtarch_clean.drop(\n",
    "    twtarch_clean[twtarch_clean['in_reply_to_status_id'].notnull()].index,\n",
    "    inplace=True)\n",
    "twtarch_clean.drop(['in_reply_to_status_id', 'in_reply_to_user_id'],\n",
    "                   inplace=True,\n",
    "                   axis=1)"
   ]
  },
  {
   "cell_type": "markdown",
   "id": "damaged-pavilion",
   "metadata": {},
   "source": [
    "Test to see if the entries have been removed"
   ]
  },
  {
   "cell_type": "code",
   "execution_count": 29,
   "id": "harmful-tampa",
   "metadata": {},
   "outputs": [
    {
     "data": {
      "text/html": [
       "<div>\n",
       "<style scoped>\n",
       "    .dataframe tbody tr th:only-of-type {\n",
       "        vertical-align: middle;\n",
       "    }\n",
       "\n",
       "    .dataframe tbody tr th {\n",
       "        vertical-align: top;\n",
       "    }\n",
       "\n",
       "    .dataframe thead th {\n",
       "        text-align: right;\n",
       "    }\n",
       "</style>\n",
       "<table border=\"1\" class=\"dataframe\">\n",
       "  <thead>\n",
       "    <tr style=\"text-align: right;\">\n",
       "      <th></th>\n",
       "      <th>tweet_id</th>\n",
       "      <th>timestamp</th>\n",
       "      <th>source</th>\n",
       "      <th>text</th>\n",
       "      <th>retweeted_status_id</th>\n",
       "      <th>retweeted_status_user_id</th>\n",
       "      <th>retweeted_status_timestamp</th>\n",
       "      <th>expanded_urls</th>\n",
       "      <th>rating_numerator</th>\n",
       "      <th>rating_denominator</th>\n",
       "      <th>name</th>\n",
       "      <th>doggo</th>\n",
       "      <th>floofer</th>\n",
       "      <th>pupper</th>\n",
       "      <th>puppo</th>\n",
       "    </tr>\n",
       "  </thead>\n",
       "  <tbody>\n",
       "    <tr>\n",
       "      <th>0</th>\n",
       "      <td>892420643555336193</td>\n",
       "      <td>2017-08-01 16:23:56+00:00</td>\n",
       "      <td>&lt;a href=\"http://twitter.com/download/iphone\" r...</td>\n",
       "      <td>This is Phineas. He's a mystical boy. Only eve...</td>\n",
       "      <td>NaN</td>\n",
       "      <td>NaN</td>\n",
       "      <td>NaN</td>\n",
       "      <td>https://twitter.com/dog_rates/status/892420643...</td>\n",
       "      <td>13</td>\n",
       "      <td>10</td>\n",
       "      <td>Phineas</td>\n",
       "      <td>None</td>\n",
       "      <td>None</td>\n",
       "      <td>None</td>\n",
       "      <td>None</td>\n",
       "    </tr>\n",
       "  </tbody>\n",
       "</table>\n",
       "</div>"
      ],
      "text/plain": [
       "             tweet_id                 timestamp  \\\n",
       "0  892420643555336193 2017-08-01 16:23:56+00:00   \n",
       "\n",
       "                                              source  \\\n",
       "0  <a href=\"http://twitter.com/download/iphone\" r...   \n",
       "\n",
       "                                                text  retweeted_status_id  \\\n",
       "0  This is Phineas. He's a mystical boy. Only eve...                  NaN   \n",
       "\n",
       "   retweeted_status_user_id retweeted_status_timestamp  \\\n",
       "0                       NaN                        NaN   \n",
       "\n",
       "                                       expanded_urls  rating_numerator  \\\n",
       "0  https://twitter.com/dog_rates/status/892420643...                13   \n",
       "\n",
       "   rating_denominator     name doggo floofer pupper puppo  \n",
       "0                  10  Phineas  None    None   None  None  "
      ]
     },
     "execution_count": 29,
     "metadata": {},
     "output_type": "execute_result"
    }
   ],
   "source": [
    "twtarch_clean.head(1)"
   ]
  },
  {
   "cell_type": "markdown",
   "id": "auburn-tender",
   "metadata": {},
   "source": [
    "Quality issue 4 - There are 181 entries that are retweets. These should be removed together with the columns."
   ]
  },
  {
   "cell_type": "code",
   "execution_count": 30,
   "id": "expensive-hormone",
   "metadata": {},
   "outputs": [],
   "source": [
    "twtarch_clean.drop(\n",
    "    twtarch_clean[twtarch_clean['retweeted_status_id'].notnull()].index,\n",
    "    inplace=True)\n",
    "twtarch_clean.drop([\n",
    "    'retweeted_status_id', 'retweeted_status_user_id',\n",
    "    'retweeted_status_timestamp'\n",
    "],\n",
    "                   inplace=True,\n",
    "                   axis=1)\n",
    "twtarch_clean.reset_index(inplace=True, drop=True)"
   ]
  },
  {
   "cell_type": "markdown",
   "id": "theoretical-ranch",
   "metadata": {},
   "source": [
    "Test to see the remaining data information"
   ]
  },
  {
   "cell_type": "code",
   "execution_count": 31,
   "id": "coordinated-noise",
   "metadata": {},
   "outputs": [
    {
     "name": "stdout",
     "output_type": "stream",
     "text": [
      "<class 'pandas.core.frame.DataFrame'>\n",
      "RangeIndex: 2097 entries, 0 to 2096\n",
      "Data columns (total 12 columns):\n",
      " #   Column              Non-Null Count  Dtype              \n",
      "---  ------              --------------  -----              \n",
      " 0   tweet_id            2097 non-null   object             \n",
      " 1   timestamp           2097 non-null   datetime64[ns, UTC]\n",
      " 2   source              2097 non-null   object             \n",
      " 3   text                2097 non-null   object             \n",
      " 4   expanded_urls       2094 non-null   object             \n",
      " 5   rating_numerator    2097 non-null   int64              \n",
      " 6   rating_denominator  2097 non-null   int64              \n",
      " 7   name                2097 non-null   object             \n",
      " 8   doggo               2097 non-null   object             \n",
      " 9   floofer             2097 non-null   object             \n",
      " 10  pupper              2097 non-null   object             \n",
      " 11  puppo               2097 non-null   object             \n",
      "dtypes: datetime64[ns, UTC](1), int64(2), object(9)\n",
      "memory usage: 196.7+ KB\n"
     ]
    }
   ],
   "source": [
    "twtarch_clean.info()"
   ]
  },
  {
   "cell_type": "markdown",
   "id": "dense-baseball",
   "metadata": {},
   "source": [
    "Quality issue 5 - The rating value columns are probably not accurate in the first place so need to be read in from text to double check."
   ]
  },
  {
   "cell_type": "code",
   "execution_count": 32,
   "id": "wrong-advancement",
   "metadata": {
    "scrolled": true
   },
   "outputs": [],
   "source": [
    "new_cols = ['new_rating_numerator', 'new_rating_denominator']\n",
    "twtarch_clean[new_cols] = twtarch_clean['text'].str.extract(\n",
    "    '(\\d*?\\.?\\d+)/(\\d+)').astype('float')\n",
    "twtarch_clean[new_cols] = twtarch_clean[new_cols].apply(\n",
    "    lambda x: round(x).astype(int))"
   ]
  },
  {
   "cell_type": "markdown",
   "id": "elect-friendship",
   "metadata": {},
   "source": [
    "Test - check against original ratings for special cases"
   ]
  },
  {
   "cell_type": "code",
   "execution_count": 33,
   "id": "flush-victorian",
   "metadata": {},
   "outputs": [
    {
     "data": {
      "text/html": [
       "<div>\n",
       "<style scoped>\n",
       "    .dataframe tbody tr th:only-of-type {\n",
       "        vertical-align: middle;\n",
       "    }\n",
       "\n",
       "    .dataframe tbody tr th {\n",
       "        vertical-align: top;\n",
       "    }\n",
       "\n",
       "    .dataframe thead th {\n",
       "        text-align: right;\n",
       "    }\n",
       "</style>\n",
       "<table border=\"1\" class=\"dataframe\">\n",
       "  <thead>\n",
       "    <tr style=\"text-align: right;\">\n",
       "      <th></th>\n",
       "      <th>text</th>\n",
       "      <th>rating_numerator</th>\n",
       "      <th>rating_denominator</th>\n",
       "      <th>new_rating_numerator</th>\n",
       "      <th>new_rating_denominator</th>\n",
       "    </tr>\n",
       "  </thead>\n",
       "  <tbody>\n",
       "    <tr>\n",
       "      <th>339</th>\n",
       "      <td>The floofs have been released I repeat the floofs have been released. 84/70 https://t.co/NIYC820tmd</td>\n",
       "      <td>84</td>\n",
       "      <td>70</td>\n",
       "      <td>84</td>\n",
       "      <td>70</td>\n",
       "    </tr>\n",
       "    <tr>\n",
       "      <th>403</th>\n",
       "      <td>Meet Sam. She smiles 24/7 &amp;amp; secretly aspires to be a reindeer. \\nKeep Sam smiling by clicking and sharing this link:\\nhttps://t.co/98tB8y7y7t https://t.co/LouL5vdvxx</td>\n",
       "      <td>24</td>\n",
       "      <td>7</td>\n",
       "      <td>24</td>\n",
       "      <td>7</td>\n",
       "    </tr>\n",
       "    <tr>\n",
       "      <th>528</th>\n",
       "      <td>This is Logan, the Chow who lived. He solemnly swears he's up to lots of good. H*ckin magical af 9.75/10 https://t.co/yBO5wuqaPS</td>\n",
       "      <td>75</td>\n",
       "      <td>10</td>\n",
       "      <td>10</td>\n",
       "      <td>10</td>\n",
       "    </tr>\n",
       "    <tr>\n",
       "      <th>586</th>\n",
       "      <td>This is Sophie. She's a Jubilant Bush Pupper. Super h*ckin rare. Appears at random just to smile at the locals. 11.27/10 would smile back https://t.co/QFaUiIHxHq</td>\n",
       "      <td>27</td>\n",
       "      <td>10</td>\n",
       "      <td>11</td>\n",
       "      <td>10</td>\n",
       "    </tr>\n",
       "    <tr>\n",
       "      <th>700</th>\n",
       "      <td>Why does this never happen at my front door... 165/150 https://t.co/HmwrdfEfUE</td>\n",
       "      <td>165</td>\n",
       "      <td>150</td>\n",
       "      <td>165</td>\n",
       "      <td>150</td>\n",
       "    </tr>\n",
       "    <tr>\n",
       "      <th>770</th>\n",
       "      <td>This is Atticus. He's quite simply America af. 1776/10 https://t.co/GRXwMxLBkh</td>\n",
       "      <td>1776</td>\n",
       "      <td>10</td>\n",
       "      <td>1776</td>\n",
       "      <td>10</td>\n",
       "    </tr>\n",
       "    <tr>\n",
       "      <th>904</th>\n",
       "      <td>Say hello to this unbelievably well behaved squad of doggos. 204/170 would try to pet all at once https://t.co/yGQI3He3xv</td>\n",
       "      <td>204</td>\n",
       "      <td>170</td>\n",
       "      <td>204</td>\n",
       "      <td>170</td>\n",
       "    </tr>\n",
       "    <tr>\n",
       "      <th>985</th>\n",
       "      <td>This is Bluebert. He just saw that both #FinalFur match ups are split 50/50. Amazed af. 11/10 https://t.co/Kky1DPG4iq</td>\n",
       "      <td>50</td>\n",
       "      <td>50</td>\n",
       "      <td>50</td>\n",
       "      <td>50</td>\n",
       "    </tr>\n",
       "    <tr>\n",
       "      <th>1011</th>\n",
       "      <td>Happy Saturday here's 9 puppers on a bench. 99/90 good work everybody https://t.co/mpvaVxKmc1</td>\n",
       "      <td>99</td>\n",
       "      <td>90</td>\n",
       "      <td>99</td>\n",
       "      <td>90</td>\n",
       "    </tr>\n",
       "    <tr>\n",
       "      <th>1036</th>\n",
       "      <td>Here's a brigade of puppers. All look very prepared for whatever happens next. 80/80 https://t.co/0eb7R1Om12</td>\n",
       "      <td>80</td>\n",
       "      <td>80</td>\n",
       "      <td>80</td>\n",
       "      <td>80</td>\n",
       "    </tr>\n",
       "    <tr>\n",
       "      <th>1056</th>\n",
       "      <td>From left to right:\\nCletus, Jerome, Alejandro, Burp, &amp;amp; Titson\\nNone know where camera is. 45/50 would hug all at once https://t.co/sedre1ivTK</td>\n",
       "      <td>45</td>\n",
       "      <td>50</td>\n",
       "      <td>45</td>\n",
       "      <td>50</td>\n",
       "    </tr>\n",
       "    <tr>\n",
       "      <th>1129</th>\n",
       "      <td>Here is a whole flock of puppers.  60/50 I'll take the lot https://t.co/9dpcw6MdWa</td>\n",
       "      <td>60</td>\n",
       "      <td>50</td>\n",
       "      <td>60</td>\n",
       "      <td>50</td>\n",
       "    </tr>\n",
       "    <tr>\n",
       "      <th>1210</th>\n",
       "      <td>Happy Wednesday here's a bucket of pups. 44/40 would pet all at once https://t.co/HppvrYuamZ</td>\n",
       "      <td>44</td>\n",
       "      <td>40</td>\n",
       "      <td>44</td>\n",
       "      <td>40</td>\n",
       "    </tr>\n",
       "    <tr>\n",
       "      <th>1399</th>\n",
       "      <td>Someone help the girl is being mugged. Several are distracting her while two steal her shoes. Clever puppers 121/110 https://t.co/1zfnTJLt55</td>\n",
       "      <td>121</td>\n",
       "      <td>110</td>\n",
       "      <td>121</td>\n",
       "      <td>110</td>\n",
       "    </tr>\n",
       "    <tr>\n",
       "      <th>1474</th>\n",
       "      <td>Here we have uncovered an entire battalion of holiday puppers. Average of 11.26/10 https://t.co/eNm2S6p9BD</td>\n",
       "      <td>26</td>\n",
       "      <td>10</td>\n",
       "      <td>11</td>\n",
       "      <td>10</td>\n",
       "    </tr>\n",
       "    <tr>\n",
       "      <th>1540</th>\n",
       "      <td>IT'S PUPPERGEDDON. Total of 144/120 ...I think https://t.co/ZanVtAtvIq</td>\n",
       "      <td>144</td>\n",
       "      <td>120</td>\n",
       "      <td>144</td>\n",
       "      <td>120</td>\n",
       "    </tr>\n",
       "    <tr>\n",
       "      <th>1602</th>\n",
       "      <td>Here we have an entire platoon of puppers. Total score: 88/80 would pet all at once https://t.co/y93p6FLvVw</td>\n",
       "      <td>88</td>\n",
       "      <td>80</td>\n",
       "      <td>88</td>\n",
       "      <td>80</td>\n",
       "    </tr>\n",
       "    <tr>\n",
       "      <th>1821</th>\n",
       "      <td>After so many requests... here you go.\\n\\nGood dogg. 420/10 https://t.co/yfAAo1gdeY</td>\n",
       "      <td>420</td>\n",
       "      <td>10</td>\n",
       "      <td>420</td>\n",
       "      <td>10</td>\n",
       "    </tr>\n",
       "  </tbody>\n",
       "</table>\n",
       "</div>"
      ],
      "text/plain": [
       "                                                                                                                                                                           text  \\\n",
       "339                                                                         The floofs have been released I repeat the floofs have been released. 84/70 https://t.co/NIYC820tmd   \n",
       "403   Meet Sam. She smiles 24/7 &amp; secretly aspires to be a reindeer. \\nKeep Sam smiling by clicking and sharing this link:\\nhttps://t.co/98tB8y7y7t https://t.co/LouL5vdvxx   \n",
       "528                                            This is Logan, the Chow who lived. He solemnly swears he's up to lots of good. H*ckin magical af 9.75/10 https://t.co/yBO5wuqaPS   \n",
       "586           This is Sophie. She's a Jubilant Bush Pupper. Super h*ckin rare. Appears at random just to smile at the locals. 11.27/10 would smile back https://t.co/QFaUiIHxHq   \n",
       "700                                                                                              Why does this never happen at my front door... 165/150 https://t.co/HmwrdfEfUE   \n",
       "770                                                                                              This is Atticus. He's quite simply America af. 1776/10 https://t.co/GRXwMxLBkh   \n",
       "904                                                   Say hello to this unbelievably well behaved squad of doggos. 204/170 would try to pet all at once https://t.co/yGQI3He3xv   \n",
       "985                                                       This is Bluebert. He just saw that both #FinalFur match ups are split 50/50. Amazed af. 11/10 https://t.co/Kky1DPG4iq   \n",
       "1011                                                                              Happy Saturday here's 9 puppers on a bench. 99/90 good work everybody https://t.co/mpvaVxKmc1   \n",
       "1036                                                               Here's a brigade of puppers. All look very prepared for whatever happens next. 80/80 https://t.co/0eb7R1Om12   \n",
       "1056                         From left to right:\\nCletus, Jerome, Alejandro, Burp, &amp; Titson\\nNone know where camera is. 45/50 would hug all at once https://t.co/sedre1ivTK   \n",
       "1129                                                                                         Here is a whole flock of puppers.  60/50 I'll take the lot https://t.co/9dpcw6MdWa   \n",
       "1210                                                                               Happy Wednesday here's a bucket of pups. 44/40 would pet all at once https://t.co/HppvrYuamZ   \n",
       "1399                               Someone help the girl is being mugged. Several are distracting her while two steal her shoes. Clever puppers 121/110 https://t.co/1zfnTJLt55   \n",
       "1474                                                                 Here we have uncovered an entire battalion of holiday puppers. Average of 11.26/10 https://t.co/eNm2S6p9BD   \n",
       "1540                                                                                                     IT'S PUPPERGEDDON. Total of 144/120 ...I think https://t.co/ZanVtAtvIq   \n",
       "1602                                                                Here we have an entire platoon of puppers. Total score: 88/80 would pet all at once https://t.co/y93p6FLvVw   \n",
       "1821                                                                                        After so many requests... here you go.\\n\\nGood dogg. 420/10 https://t.co/yfAAo1gdeY   \n",
       "\n",
       "      rating_numerator  rating_denominator  new_rating_numerator  \\\n",
       "339                 84                  70                    84   \n",
       "403                 24                   7                    24   \n",
       "528                 75                  10                    10   \n",
       "586                 27                  10                    11   \n",
       "700                165                 150                   165   \n",
       "770               1776                  10                  1776   \n",
       "904                204                 170                   204   \n",
       "985                 50                  50                    50   \n",
       "1011                99                  90                    99   \n",
       "1036                80                  80                    80   \n",
       "1056                45                  50                    45   \n",
       "1129                60                  50                    60   \n",
       "1210                44                  40                    44   \n",
       "1399               121                 110                   121   \n",
       "1474                26                  10                    11   \n",
       "1540               144                 120                   144   \n",
       "1602                88                  80                    88   \n",
       "1821               420                  10                   420   \n",
       "\n",
       "      new_rating_denominator  \n",
       "339                       70  \n",
       "403                        7  \n",
       "528                       10  \n",
       "586                       10  \n",
       "700                      150  \n",
       "770                       10  \n",
       "904                      170  \n",
       "985                       50  \n",
       "1011                      90  \n",
       "1036                      80  \n",
       "1056                      50  \n",
       "1129                      50  \n",
       "1210                      40  \n",
       "1399                     110  \n",
       "1474                      10  \n",
       "1540                     120  \n",
       "1602                      80  \n",
       "1821                      10  "
      ]
     },
     "execution_count": 33,
     "metadata": {},
     "output_type": "execute_result"
    }
   ],
   "source": [
    "pd.set_option('display.max_colwidth', None)  # display full text\n",
    "twtarch_clean.loc[twtarch_clean['rating_numerator'] > 20, [\n",
    "    'text', 'rating_numerator', 'rating_denominator', 'new_rating_numerator',\n",
    "    'new_rating_denominator'\n",
    "]]"
   ]
  },
  {
   "cell_type": "code",
   "execution_count": 34,
   "id": "biblical-integrity",
   "metadata": {},
   "outputs": [],
   "source": [
    "# drop the original ratings columns also\n",
    "twtarch_clean.drop(['rating_numerator', 'rating_denominator'],\n",
    "                   axis=1,\n",
    "                   inplace=True)"
   ]
  },
  {
   "cell_type": "markdown",
   "id": "enormous-terminal",
   "metadata": {},
   "source": [
    "Quality issue 6 - There are a total of 14 rows that have multiple choices of Dogtionary, and these need to be corrected. But be mindful to leave out those that have two dogs (and indeed two stages / Dogtionary) in the image."
   ]
  },
  {
   "cell_type": "code",
   "execution_count": 35,
   "id": "excessive-wilderness",
   "metadata": {},
   "outputs": [
    {
     "data": {
      "text/plain": [
       "154          Here's a puppo participating in the #ScienceMarch. Cleverly disguising her own doggo agenda. 13/10 would keep the planet habitable for https://t.co/cMhq16isel\n",
       "161    At first I thought this was a shy doggo, but it's actually a Rare Canadian Floofer Owl. Amateurs would confuse the two. 11/10 only send dogs https://t.co/TXdT3tmuYk\n",
       "358    This is Dido. She's playing the lead role in \"Pupper Stops to Catch Snow Before Resuming Shadow Box with Dried Apple.\" 13/10 (IG: didodoggo) https://t.co/m7isZrOBX7\n",
       "416                        Here we have Burke (pupper) and Dexter (doggo). Pupper wants to be exactly like doggo. Both 12/10 would pet at same time https://t.co/ANBpEYHaho\n",
       "446                        This is Bones. He's being haunted by another doggo of roughly the same size. 12/10 deep breaths pupper everything's fine https://t.co/55Dqe0SJNj\n",
       "536    This is Pinot. He's a sophisticated doggo. You can tell by the hat. Also pointier than your average pupper. Still 10/10 would pet cautiously https://t.co/f2wmLZTPHd\n",
       "562                                                                                                              Pupper butt 1, Doggo 0. Both 12/10 https://t.co/WQvcPEpH2u\n",
       "689                        Meet Maggie &amp; Lila. Maggie is the doggo, Lila is the pupper. They are sisters. Both 12/10 would pet at the same time https://t.co/MYwR4DQKll\n",
       "748                                Please stop sending it pictures that don't even have a doggo or pupper in them. Churlish af. 5/10 neat couch tho https://t.co/u2c9c7qSg8\n",
       "848                                                                             This is just downright precious af. 12/10 for both pupper and doggo https://t.co/o5J479bZUC\n",
       "897                                                                                              Like father (doggo), like son (pupper). Both 12/10 https://t.co/pG2inLaOda\n",
       "Name: text, dtype: object"
      ]
     },
     "execution_count": 35,
     "metadata": {},
     "output_type": "execute_result"
    }
   ],
   "source": [
    "# Show text of those that have more than one Dogtionary for analysis in the next step\n",
    "pd.set_option('display.max_colwidth', None)  # display full text\n",
    "dogtionary_cols = ['doggo', 'floofer', 'pupper', 'puppo']\n",
    "twtarch_clean[(twtarch_clean[dogtionary_cols].values == 'None').sum(\n",
    "    axis=1) < 3]['text']"
   ]
  },
  {
   "cell_type": "code",
   "execution_count": 36,
   "id": "reliable-mississippi",
   "metadata": {},
   "outputs": [],
   "source": [
    "twtarch_clean.loc[154, dogtionary_cols] = ['None', 'None', 'None', 'puppo']\n",
    "twtarch_clean.loc[161, dogtionary_cols] = ['None', 'floofer', 'None', 'None']\n",
    "twtarch_clean.loc[358, dogtionary_cols] = ['None', 'None', 'pupper', 'None']\n",
    "twtarch_clean.loc[446, dogtionary_cols] = ['None', 'None', 'pupper', 'None']\n",
    "twtarch_clean.loc[536, dogtionary_cols] = ['doggo', 'None', 'None', 'None']\n",
    "twtarch_clean.loc[748, dogtionary_cols] = ['doggo', 'None', 'None', 'None']"
   ]
  },
  {
   "cell_type": "markdown",
   "id": "accepting-validity",
   "metadata": {},
   "source": [
    "Test to see if the multiple dog stage columns have been cleaned."
   ]
  },
  {
   "cell_type": "code",
   "execution_count": 37,
   "id": "warming-surge",
   "metadata": {},
   "outputs": [
    {
     "data": {
      "text/html": [
       "<div>\n",
       "<style scoped>\n",
       "    .dataframe tbody tr th:only-of-type {\n",
       "        vertical-align: middle;\n",
       "    }\n",
       "\n",
       "    .dataframe tbody tr th {\n",
       "        vertical-align: top;\n",
       "    }\n",
       "\n",
       "    .dataframe thead th {\n",
       "        text-align: right;\n",
       "    }\n",
       "</style>\n",
       "<table border=\"1\" class=\"dataframe\">\n",
       "  <thead>\n",
       "    <tr style=\"text-align: right;\">\n",
       "      <th></th>\n",
       "      <th>tweet_id</th>\n",
       "      <th>timestamp</th>\n",
       "      <th>source</th>\n",
       "      <th>text</th>\n",
       "      <th>expanded_urls</th>\n",
       "      <th>name</th>\n",
       "      <th>doggo</th>\n",
       "      <th>floofer</th>\n",
       "      <th>pupper</th>\n",
       "      <th>puppo</th>\n",
       "      <th>new_rating_numerator</th>\n",
       "      <th>new_rating_denominator</th>\n",
       "    </tr>\n",
       "  </thead>\n",
       "  <tbody>\n",
       "    <tr>\n",
       "      <th>416</th>\n",
       "      <td>808106460588765185</td>\n",
       "      <td>2016-12-12 00:29:28+00:00</td>\n",
       "      <td>&lt;a href=\"http://twitter.com/download/iphone\" rel=\"nofollow\"&gt;Twitter for iPhone&lt;/a&gt;</td>\n",
       "      <td>Here we have Burke (pupper) and Dexter (doggo). Pupper wants to be exactly like doggo. Both 12/10 would pet at same time https://t.co/ANBpEYHaho</td>\n",
       "      <td>https://twitter.com/dog_rates/status/808106460588765185/photo/1</td>\n",
       "      <td>None</td>\n",
       "      <td>doggo</td>\n",
       "      <td>None</td>\n",
       "      <td>pupper</td>\n",
       "      <td>None</td>\n",
       "      <td>12</td>\n",
       "      <td>10</td>\n",
       "    </tr>\n",
       "    <tr>\n",
       "      <th>562</th>\n",
       "      <td>781308096455073793</td>\n",
       "      <td>2016-09-29 01:42:20+00:00</td>\n",
       "      <td>&lt;a href=\"http://vine.co\" rel=\"nofollow\"&gt;Vine - Make a Scene&lt;/a&gt;</td>\n",
       "      <td>Pupper butt 1, Doggo 0. Both 12/10 https://t.co/WQvcPEpH2u</td>\n",
       "      <td>https://vine.co/v/5rgu2Law2ut</td>\n",
       "      <td>None</td>\n",
       "      <td>doggo</td>\n",
       "      <td>None</td>\n",
       "      <td>pupper</td>\n",
       "      <td>None</td>\n",
       "      <td>12</td>\n",
       "      <td>10</td>\n",
       "    </tr>\n",
       "    <tr>\n",
       "      <th>689</th>\n",
       "      <td>759793422261743616</td>\n",
       "      <td>2016-07-31 16:50:42+00:00</td>\n",
       "      <td>&lt;a href=\"http://twitter.com/download/iphone\" rel=\"nofollow\"&gt;Twitter for iPhone&lt;/a&gt;</td>\n",
       "      <td>Meet Maggie &amp;amp; Lila. Maggie is the doggo, Lila is the pupper. They are sisters. Both 12/10 would pet at the same time https://t.co/MYwR4DQKll</td>\n",
       "      <td>https://twitter.com/dog_rates/status/759793422261743616/photo/1,https://twitter.com/dog_rates/status/759793422261743616/photo/1</td>\n",
       "      <td>Maggie</td>\n",
       "      <td>doggo</td>\n",
       "      <td>None</td>\n",
       "      <td>pupper</td>\n",
       "      <td>None</td>\n",
       "      <td>12</td>\n",
       "      <td>10</td>\n",
       "    </tr>\n",
       "    <tr>\n",
       "      <th>848</th>\n",
       "      <td>741067306818797568</td>\n",
       "      <td>2016-06-10 00:39:48+00:00</td>\n",
       "      <td>&lt;a href=\"http://twitter.com/download/iphone\" rel=\"nofollow\"&gt;Twitter for iPhone&lt;/a&gt;</td>\n",
       "      <td>This is just downright precious af. 12/10 for both pupper and doggo https://t.co/o5J479bZUC</td>\n",
       "      <td>https://twitter.com/dog_rates/status/741067306818797568/photo/1</td>\n",
       "      <td>just</td>\n",
       "      <td>doggo</td>\n",
       "      <td>None</td>\n",
       "      <td>pupper</td>\n",
       "      <td>None</td>\n",
       "      <td>12</td>\n",
       "      <td>10</td>\n",
       "    </tr>\n",
       "    <tr>\n",
       "      <th>897</th>\n",
       "      <td>733109485275860992</td>\n",
       "      <td>2016-05-19 01:38:16+00:00</td>\n",
       "      <td>&lt;a href=\"http://twitter.com/download/iphone\" rel=\"nofollow\"&gt;Twitter for iPhone&lt;/a&gt;</td>\n",
       "      <td>Like father (doggo), like son (pupper). Both 12/10 https://t.co/pG2inLaOda</td>\n",
       "      <td>https://twitter.com/dog_rates/status/733109485275860992/photo/1</td>\n",
       "      <td>None</td>\n",
       "      <td>doggo</td>\n",
       "      <td>None</td>\n",
       "      <td>pupper</td>\n",
       "      <td>None</td>\n",
       "      <td>12</td>\n",
       "      <td>10</td>\n",
       "    </tr>\n",
       "  </tbody>\n",
       "</table>\n",
       "</div>"
      ],
      "text/plain": [
       "               tweet_id                 timestamp  \\\n",
       "416  808106460588765185 2016-12-12 00:29:28+00:00   \n",
       "562  781308096455073793 2016-09-29 01:42:20+00:00   \n",
       "689  759793422261743616 2016-07-31 16:50:42+00:00   \n",
       "848  741067306818797568 2016-06-10 00:39:48+00:00   \n",
       "897  733109485275860992 2016-05-19 01:38:16+00:00   \n",
       "\n",
       "                                                                                 source  \\\n",
       "416  <a href=\"http://twitter.com/download/iphone\" rel=\"nofollow\">Twitter for iPhone</a>   \n",
       "562                     <a href=\"http://vine.co\" rel=\"nofollow\">Vine - Make a Scene</a>   \n",
       "689  <a href=\"http://twitter.com/download/iphone\" rel=\"nofollow\">Twitter for iPhone</a>   \n",
       "848  <a href=\"http://twitter.com/download/iphone\" rel=\"nofollow\">Twitter for iPhone</a>   \n",
       "897  <a href=\"http://twitter.com/download/iphone\" rel=\"nofollow\">Twitter for iPhone</a>   \n",
       "\n",
       "                                                                                                                                                 text  \\\n",
       "416  Here we have Burke (pupper) and Dexter (doggo). Pupper wants to be exactly like doggo. Both 12/10 would pet at same time https://t.co/ANBpEYHaho   \n",
       "562                                                                                        Pupper butt 1, Doggo 0. Both 12/10 https://t.co/WQvcPEpH2u   \n",
       "689  Meet Maggie &amp; Lila. Maggie is the doggo, Lila is the pupper. They are sisters. Both 12/10 would pet at the same time https://t.co/MYwR4DQKll   \n",
       "848                                                       This is just downright precious af. 12/10 for both pupper and doggo https://t.co/o5J479bZUC   \n",
       "897                                                                        Like father (doggo), like son (pupper). Both 12/10 https://t.co/pG2inLaOda   \n",
       "\n",
       "                                                                                                                       expanded_urls  \\\n",
       "416                                                                  https://twitter.com/dog_rates/status/808106460588765185/photo/1   \n",
       "562                                                                                                    https://vine.co/v/5rgu2Law2ut   \n",
       "689  https://twitter.com/dog_rates/status/759793422261743616/photo/1,https://twitter.com/dog_rates/status/759793422261743616/photo/1   \n",
       "848                                                                  https://twitter.com/dog_rates/status/741067306818797568/photo/1   \n",
       "897                                                                  https://twitter.com/dog_rates/status/733109485275860992/photo/1   \n",
       "\n",
       "       name  doggo floofer  pupper puppo  new_rating_numerator  \\\n",
       "416    None  doggo    None  pupper  None                    12   \n",
       "562    None  doggo    None  pupper  None                    12   \n",
       "689  Maggie  doggo    None  pupper  None                    12   \n",
       "848    just  doggo    None  pupper  None                    12   \n",
       "897    None  doggo    None  pupper  None                    12   \n",
       "\n",
       "     new_rating_denominator  \n",
       "416                      10  \n",
       "562                      10  \n",
       "689                      10  \n",
       "848                      10  \n",
       "897                      10  "
      ]
     },
     "execution_count": 37,
     "metadata": {},
     "output_type": "execute_result"
    }
   ],
   "source": [
    "twtarch_clean[(twtarch_clean[dogtionary_cols].values == 'None').sum(\n",
    "    axis=1) < 3]"
   ]
  },
  {
   "cell_type": "markdown",
   "id": "stylish-taxation",
   "metadata": {},
   "source": [
    "Quality issue 7 - The $tweet\\_id$ column in predictions dataframe should be Object (string) type"
   ]
  },
  {
   "cell_type": "code",
   "execution_count": 38,
   "id": "greenhouse-pacific",
   "metadata": {},
   "outputs": [],
   "source": [
    "imgpred_clean['tweet_id'] = imgpred_clean['tweet_id'].astype('str')"
   ]
  },
  {
   "cell_type": "markdown",
   "id": "wooden-dividend",
   "metadata": {},
   "source": [
    "Test the data type"
   ]
  },
  {
   "cell_type": "code",
   "execution_count": 39,
   "id": "imposed-consensus",
   "metadata": {},
   "outputs": [
    {
     "data": {
      "text/plain": [
       "dtype('O')"
      ]
     },
     "execution_count": 39,
     "metadata": {},
     "output_type": "execute_result"
    }
   ],
   "source": [
    "imgpred_clean['tweet_id'].dtype"
   ]
  },
  {
   "cell_type": "markdown",
   "id": "median-court",
   "metadata": {},
   "source": [
    "Quality issue 8 - There are 324 rows where none of the predicted breed is a dog's, and so need to drop these rows"
   ]
  },
  {
   "cell_type": "code",
   "execution_count": 40,
   "id": "essential-parks",
   "metadata": {},
   "outputs": [],
   "source": [
    "imgpred_clean.drop(\n",
    "    imgpred_clean[(imgpred_clean[['p1_dog', 'p2_dog', 'p3_dog']] == False).sum(\n",
    "        axis=1) == 3].index,\n",
    "    inplace=True)"
   ]
  },
  {
   "cell_type": "markdown",
   "id": "identified-program",
   "metadata": {},
   "source": [
    "Test to see if these rows have been removed"
   ]
  },
  {
   "cell_type": "code",
   "execution_count": 41,
   "id": "graphic-museum",
   "metadata": {},
   "outputs": [
    {
     "data": {
      "text/plain": [
       "0"
      ]
     },
     "execution_count": 41,
     "metadata": {},
     "output_type": "execute_result"
    }
   ],
   "source": [
    "((imgpred_clean[['p1_dog', 'p2_dog',\n",
    "                 'p3_dog']] == False).sum(axis=1) == 3).sum()"
   ]
  },
  {
   "cell_type": "markdown",
   "id": "official-extension",
   "metadata": {},
   "source": [
    "Quality issue 9 - The three breed predictions along with the conf level and whether the breed is a dog need to be combined into one most likely dog breed."
   ]
  },
  {
   "cell_type": "code",
   "execution_count": 42,
   "id": "front-receptor",
   "metadata": {},
   "outputs": [],
   "source": [
    "def pickbreed(row):\n",
    "    if row['p1_dog']:\n",
    "        return row['p1']\n",
    "    elif row['p2_dog']:\n",
    "        return row['p2']\n",
    "    else:\n",
    "        return row['p3']\n",
    "\n",
    "\n",
    "# apply the function to get the most likely breed\n",
    "imgpred_clean['breed'] = imgpred_clean.apply(pickbreed, axis=1)"
   ]
  },
  {
   "cell_type": "markdown",
   "id": "intellectual-moment",
   "metadata": {},
   "source": [
    "Test to inspect a few sample rows to see if breed is correct"
   ]
  },
  {
   "cell_type": "code",
   "execution_count": 43,
   "id": "returning-allowance",
   "metadata": {},
   "outputs": [
    {
     "name": "stdout",
     "output_type": "stream",
     "text": [
      "Empty DataFrame\n",
      "Columns: [tweet_id, jpg_url, img_num, p1, p1_conf, p1_dog, p2, p2_conf, p2_dog, p3, p3_conf, p3_dog, breed]\n",
      "Index: []\n"
     ]
    },
    {
     "data": {
      "text/html": [
       "<div>\n",
       "<style scoped>\n",
       "    .dataframe tbody tr th:only-of-type {\n",
       "        vertical-align: middle;\n",
       "    }\n",
       "\n",
       "    .dataframe tbody tr th {\n",
       "        vertical-align: top;\n",
       "    }\n",
       "\n",
       "    .dataframe thead th {\n",
       "        text-align: right;\n",
       "    }\n",
       "</style>\n",
       "<table border=\"1\" class=\"dataframe\">\n",
       "  <thead>\n",
       "    <tr style=\"text-align: right;\">\n",
       "      <th></th>\n",
       "      <th>tweet_id</th>\n",
       "      <th>jpg_url</th>\n",
       "      <th>img_num</th>\n",
       "      <th>p1</th>\n",
       "      <th>p1_conf</th>\n",
       "      <th>p1_dog</th>\n",
       "      <th>p2</th>\n",
       "      <th>p2_conf</th>\n",
       "      <th>p2_dog</th>\n",
       "      <th>p3</th>\n",
       "      <th>p3_conf</th>\n",
       "      <th>p3_dog</th>\n",
       "      <th>breed</th>\n",
       "    </tr>\n",
       "  </thead>\n",
       "  <tbody>\n",
       "    <tr>\n",
       "      <th>2056</th>\n",
       "      <td>888554962724278272</td>\n",
       "      <td>https://pbs.twimg.com/media/DFTH_O-UQAACu20.jpg</td>\n",
       "      <td>3</td>\n",
       "      <td>Siberian_husky</td>\n",
       "      <td>0.700377</td>\n",
       "      <td>True</td>\n",
       "      <td>Eskimo_dog</td>\n",
       "      <td>0.166511</td>\n",
       "      <td>True</td>\n",
       "      <td>malamute</td>\n",
       "      <td>0.111411</td>\n",
       "      <td>True</td>\n",
       "      <td>Siberian_husky</td>\n",
       "    </tr>\n",
       "    <tr>\n",
       "      <th>821</th>\n",
       "      <td>693095443459342336</td>\n",
       "      <td>https://pbs.twimg.com/media/CZ5entwWYAAocEg.jpg</td>\n",
       "      <td>1</td>\n",
       "      <td>ice_lolly</td>\n",
       "      <td>0.660099</td>\n",
       "      <td>False</td>\n",
       "      <td>neck_brace</td>\n",
       "      <td>0.039563</td>\n",
       "      <td>False</td>\n",
       "      <td>Yorkshire_terrier</td>\n",
       "      <td>0.033488</td>\n",
       "      <td>True</td>\n",
       "      <td>Yorkshire_terrier</td>\n",
       "    </tr>\n",
       "    <tr>\n",
       "      <th>1201</th>\n",
       "      <td>741067306818797568</td>\n",
       "      <td>https://pbs.twimg.com/media/CkjMx99UoAM2B1a.jpg</td>\n",
       "      <td>1</td>\n",
       "      <td>golden_retriever</td>\n",
       "      <td>0.843799</td>\n",
       "      <td>True</td>\n",
       "      <td>Labrador_retriever</td>\n",
       "      <td>0.052956</td>\n",
       "      <td>True</td>\n",
       "      <td>kelpie</td>\n",
       "      <td>0.035711</td>\n",
       "      <td>True</td>\n",
       "      <td>golden_retriever</td>\n",
       "    </tr>\n",
       "    <tr>\n",
       "      <th>128</th>\n",
       "      <td>668274247790391296</td>\n",
       "      <td>https://pbs.twimg.com/media/CUYv4d2WUAAziXs.jpg</td>\n",
       "      <td>1</td>\n",
       "      <td>soft-coated_wheaten_terrier</td>\n",
       "      <td>0.406374</td>\n",
       "      <td>True</td>\n",
       "      <td>Lakeland_terrier</td>\n",
       "      <td>0.263854</td>\n",
       "      <td>True</td>\n",
       "      <td>toy_poodle</td>\n",
       "      <td>0.150844</td>\n",
       "      <td>True</td>\n",
       "      <td>soft-coated_wheaten_terrier</td>\n",
       "    </tr>\n",
       "    <tr>\n",
       "      <th>47</th>\n",
       "      <td>666817836334096384</td>\n",
       "      <td>https://pbs.twimg.com/media/CUEDSMEWEAAuXVZ.jpg</td>\n",
       "      <td>1</td>\n",
       "      <td>miniature_schnauzer</td>\n",
       "      <td>0.496953</td>\n",
       "      <td>True</td>\n",
       "      <td>standard_schnauzer</td>\n",
       "      <td>0.285276</td>\n",
       "      <td>True</td>\n",
       "      <td>giant_schnauzer</td>\n",
       "      <td>0.073764</td>\n",
       "      <td>True</td>\n",
       "      <td>miniature_schnauzer</td>\n",
       "    </tr>\n",
       "  </tbody>\n",
       "</table>\n",
       "</div>"
      ],
      "text/plain": [
       "                tweet_id                                          jpg_url  \\\n",
       "2056  888554962724278272  https://pbs.twimg.com/media/DFTH_O-UQAACu20.jpg   \n",
       "821   693095443459342336  https://pbs.twimg.com/media/CZ5entwWYAAocEg.jpg   \n",
       "1201  741067306818797568  https://pbs.twimg.com/media/CkjMx99UoAM2B1a.jpg   \n",
       "128   668274247790391296  https://pbs.twimg.com/media/CUYv4d2WUAAziXs.jpg   \n",
       "47    666817836334096384  https://pbs.twimg.com/media/CUEDSMEWEAAuXVZ.jpg   \n",
       "\n",
       "      img_num                           p1   p1_conf  p1_dog  \\\n",
       "2056        3               Siberian_husky  0.700377    True   \n",
       "821         1                    ice_lolly  0.660099   False   \n",
       "1201        1             golden_retriever  0.843799    True   \n",
       "128         1  soft-coated_wheaten_terrier  0.406374    True   \n",
       "47          1          miniature_schnauzer  0.496953    True   \n",
       "\n",
       "                      p2   p2_conf  p2_dog                 p3   p3_conf  \\\n",
       "2056          Eskimo_dog  0.166511    True           malamute  0.111411   \n",
       "821           neck_brace  0.039563   False  Yorkshire_terrier  0.033488   \n",
       "1201  Labrador_retriever  0.052956    True             kelpie  0.035711   \n",
       "128     Lakeland_terrier  0.263854    True         toy_poodle  0.150844   \n",
       "47    standard_schnauzer  0.285276    True    giant_schnauzer  0.073764   \n",
       "\n",
       "      p3_dog                        breed  \n",
       "2056    True               Siberian_husky  \n",
       "821     True            Yorkshire_terrier  \n",
       "1201    True             golden_retriever  \n",
       "128     True  soft-coated_wheaten_terrier  \n",
       "47      True          miniature_schnauzer  "
      ]
     },
     "execution_count": 43,
     "metadata": {},
     "output_type": "execute_result"
    }
   ],
   "source": [
    "print(imgpred_clean[imgpred_clean.breed.isna() ==\n",
    "                    True])  # check for error output\n",
    "imgpred_clean.sample(5)"
   ]
  },
  {
   "cell_type": "code",
   "execution_count": 44,
   "id": "beneficial-gibson",
   "metadata": {},
   "outputs": [],
   "source": [
    "# drop the original breed prediction columns also\n",
    "imgpred_clean.drop([\n",
    "    'p1', 'p1_conf', 'p1_dog', 'p2', 'p2_conf', 'p2_dog', 'p3', 'p3_conf',\n",
    "    'p3_dog'\n",
    "],\n",
    "                   axis=1,\n",
    "                   inplace=True)"
   ]
  },
  {
   "cell_type": "markdown",
   "id": "tutorial-syntax",
   "metadata": {},
   "source": [
    "Tidiness issue 1 - the dog stage is one variable and hence should form single column. So the four Dogtionary columns in archive dataframe can be merged into one single column."
   ]
  },
  {
   "cell_type": "code",
   "execution_count": 45,
   "id": "innovative-management",
   "metadata": {},
   "outputs": [],
   "source": [
    "twtarch_clean[dogtionary_cols] = twtarch_clean[dogtionary_cols].replace(\n",
    "    'None', np.nan)\n",
    "\n",
    "\n",
    "# define a function to pick (or combine where applicable) the right dogtionary\n",
    "def pickdogtionary(row):\n",
    "    if row[dogtionary_cols].isna().sum() == 4:\n",
    "        return 'None'\n",
    "    else:\n",
    "        return ' & '.join(row[dogtionary_cols][row[dogtionary_cols].notna()])\n",
    "\n",
    "\n",
    "# apply the function\n",
    "twtarch_clean['dogtionary'] = twtarch_clean[dogtionary_cols].apply(\n",
    "    pickdogtionary, axis=1)"
   ]
  },
  {
   "cell_type": "markdown",
   "id": "subject-porter",
   "metadata": {},
   "source": [
    "Test the Dogtionary for three distinct scenarios"
   ]
  },
  {
   "cell_type": "code",
   "execution_count": 46,
   "id": "false-formation",
   "metadata": {
    "scrolled": true
   },
   "outputs": [
    {
     "data": {
      "text/html": [
       "<div>\n",
       "<style scoped>\n",
       "    .dataframe tbody tr th:only-of-type {\n",
       "        vertical-align: middle;\n",
       "    }\n",
       "\n",
       "    .dataframe tbody tr th {\n",
       "        vertical-align: top;\n",
       "    }\n",
       "\n",
       "    .dataframe thead th {\n",
       "        text-align: right;\n",
       "    }\n",
       "</style>\n",
       "<table border=\"1\" class=\"dataframe\">\n",
       "  <thead>\n",
       "    <tr style=\"text-align: right;\">\n",
       "      <th></th>\n",
       "      <th>text</th>\n",
       "      <th>doggo</th>\n",
       "      <th>floofer</th>\n",
       "      <th>pupper</th>\n",
       "      <th>puppo</th>\n",
       "      <th>dogtionary</th>\n",
       "    </tr>\n",
       "  </thead>\n",
       "  <tbody>\n",
       "    <tr>\n",
       "      <th>1</th>\n",
       "      <td>This is Tilly. She's just checking pup on you. Hopes you're doing ok. If not, she's available for pats, snugs, boops, the whole bit. 13/10 https://t.co/0Xxu71qeIV</td>\n",
       "      <td>NaN</td>\n",
       "      <td>NaN</td>\n",
       "      <td>NaN</td>\n",
       "      <td>NaN</td>\n",
       "      <td>None</td>\n",
       "    </tr>\n",
       "    <tr>\n",
       "      <th>446</th>\n",
       "      <td>This is Bones. He's being haunted by another doggo of roughly the same size. 12/10 deep breaths pupper everything's fine https://t.co/55Dqe0SJNj</td>\n",
       "      <td>NaN</td>\n",
       "      <td>NaN</td>\n",
       "      <td>pupper</td>\n",
       "      <td>NaN</td>\n",
       "      <td>pupper</td>\n",
       "    </tr>\n",
       "    <tr>\n",
       "      <th>897</th>\n",
       "      <td>Like father (doggo), like son (pupper). Both 12/10 https://t.co/pG2inLaOda</td>\n",
       "      <td>doggo</td>\n",
       "      <td>NaN</td>\n",
       "      <td>pupper</td>\n",
       "      <td>NaN</td>\n",
       "      <td>doggo &amp; pupper</td>\n",
       "    </tr>\n",
       "  </tbody>\n",
       "</table>\n",
       "</div>"
      ],
      "text/plain": [
       "                                                                                                                                                                   text  \\\n",
       "1    This is Tilly. She's just checking pup on you. Hopes you're doing ok. If not, she's available for pats, snugs, boops, the whole bit. 13/10 https://t.co/0Xxu71qeIV   \n",
       "446                    This is Bones. He's being haunted by another doggo of roughly the same size. 12/10 deep breaths pupper everything's fine https://t.co/55Dqe0SJNj   \n",
       "897                                                                                          Like father (doggo), like son (pupper). Both 12/10 https://t.co/pG2inLaOda   \n",
       "\n",
       "     doggo floofer  pupper puppo      dogtionary  \n",
       "1      NaN     NaN     NaN   NaN            None  \n",
       "446    NaN     NaN  pupper   NaN          pupper  \n",
       "897  doggo     NaN  pupper   NaN  doggo & pupper  "
      ]
     },
     "execution_count": 46,
     "metadata": {},
     "output_type": "execute_result"
    }
   ],
   "source": [
    "twtarch_clean.loc[\n",
    "    [1, 446, 897],\n",
    "    ['text', 'doggo', 'floofer', 'pupper', 'puppo', 'dogtionary']]"
   ]
  },
  {
   "cell_type": "code",
   "execution_count": 47,
   "id": "turned-found",
   "metadata": {},
   "outputs": [],
   "source": [
    "# drop the original dogtionary columns also\n",
    "twtarch_clean.drop(dogtionary_cols, axis=1, inplace=True)"
   ]
  },
  {
   "cell_type": "markdown",
   "id": "broadband-sewing",
   "metadata": {},
   "source": [
    "Tidiness issue 2 - Information about one type of observational unit (tweets) is spread across three different files/dataframes. Therefore all dataframes should be merged together."
   ]
  },
  {
   "cell_type": "code",
   "execution_count": 48,
   "id": "preceding-target",
   "metadata": {},
   "outputs": [],
   "source": [
    "twtarch_master = pd.merge(twtarch_clean, imgpred_clean, on='tweet_id')\n",
    "twtarch_master = pd.merge(twtarch_master, twtdata_clean, on='tweet_id')"
   ]
  },
  {
   "cell_type": "markdown",
   "id": "coordinate-migration",
   "metadata": {},
   "source": [
    "Test to see the final master dataframe information"
   ]
  },
  {
   "cell_type": "code",
   "execution_count": 49,
   "id": "popular-business",
   "metadata": {},
   "outputs": [
    {
     "name": "stdout",
     "output_type": "stream",
     "text": [
      "<class 'pandas.core.frame.DataFrame'>\n",
      "Int64Index: 1659 entries, 0 to 1658\n",
      "Data columns (total 14 columns):\n",
      " #   Column                  Non-Null Count  Dtype              \n",
      "---  ------                  --------------  -----              \n",
      " 0   tweet_id                1659 non-null   object             \n",
      " 1   timestamp               1659 non-null   datetime64[ns, UTC]\n",
      " 2   source                  1659 non-null   object             \n",
      " 3   text                    1659 non-null   object             \n",
      " 4   expanded_urls           1659 non-null   object             \n",
      " 5   name                    1659 non-null   object             \n",
      " 6   new_rating_numerator    1659 non-null   int64              \n",
      " 7   new_rating_denominator  1659 non-null   int64              \n",
      " 8   dogtionary              1659 non-null   object             \n",
      " 9   jpg_url                 1659 non-null   object             \n",
      " 10  img_num                 1659 non-null   int64              \n",
      " 11  breed                   1659 non-null   object             \n",
      " 12  num_retweet             1659 non-null   int64              \n",
      " 13  num_favorite            1659 non-null   int64              \n",
      "dtypes: datetime64[ns, UTC](1), int64(5), object(8)\n",
      "memory usage: 194.4+ KB\n"
     ]
    }
   ],
   "source": [
    "twtarch_master.info()"
   ]
  },
  {
   "cell_type": "markdown",
   "id": "received-boating",
   "metadata": {},
   "source": [
    "<a id='partII'></a>\n",
    "## Part II - Analysis and Insight"
   ]
  },
  {
   "cell_type": "code",
   "execution_count": 50,
   "id": "million-occasion",
   "metadata": {},
   "outputs": [],
   "source": [
    "twtarch_master.to_csv('twitter_archive_master.csv', index=False)"
   ]
  },
  {
   "cell_type": "code",
   "execution_count": 51,
   "id": "accessible-vermont",
   "metadata": {},
   "outputs": [
    {
     "data": {
      "text/html": [
       "<div>\n",
       "<style scoped>\n",
       "    .dataframe tbody tr th:only-of-type {\n",
       "        vertical-align: middle;\n",
       "    }\n",
       "\n",
       "    .dataframe tbody tr th {\n",
       "        vertical-align: top;\n",
       "    }\n",
       "\n",
       "    .dataframe thead th {\n",
       "        text-align: right;\n",
       "    }\n",
       "</style>\n",
       "<table border=\"1\" class=\"dataframe\">\n",
       "  <thead>\n",
       "    <tr style=\"text-align: right;\">\n",
       "      <th></th>\n",
       "      <th>tweet_id</th>\n",
       "      <th>timestamp</th>\n",
       "      <th>source</th>\n",
       "      <th>text</th>\n",
       "      <th>expanded_urls</th>\n",
       "      <th>name</th>\n",
       "      <th>new_rating_numerator</th>\n",
       "      <th>new_rating_denominator</th>\n",
       "      <th>dogtionary</th>\n",
       "      <th>jpg_url</th>\n",
       "      <th>img_num</th>\n",
       "      <th>breed</th>\n",
       "      <th>num_retweet</th>\n",
       "      <th>num_favorite</th>\n",
       "    </tr>\n",
       "  </thead>\n",
       "  <tbody>\n",
       "    <tr>\n",
       "      <th>643</th>\n",
       "      <td>749395845976588288</td>\n",
       "      <td>2016-07-03 00:14:27+00:00</td>\n",
       "      <td>&lt;a href=\"http://twitter.com/download/iphone\" rel=\"nofollow\"&gt;Twitter for iPhone&lt;/a&gt;</td>\n",
       "      <td>This is George. He just remembered that bees are dying globally at an alarming rate. Scary stuff George. 10/10 https://t.co/lznl6QGkYc</td>\n",
       "      <td>https://twitter.com/dog_rates/status/749395845976588288/photo/1,https://twitter.com/dog_rates/status/749395845976588288/photo/1</td>\n",
       "      <td>George</td>\n",
       "      <td>10</td>\n",
       "      <td>10</td>\n",
       "      <td>None</td>\n",
       "      <td>https://pbs.twimg.com/media/CmZjizYW8AA3FCN.jpg</td>\n",
       "      <td>1</td>\n",
       "      <td>Pomeranian</td>\n",
       "      <td>3291</td>\n",
       "      <td>8276</td>\n",
       "    </tr>\n",
       "    <tr>\n",
       "      <th>946</th>\n",
       "      <td>700864154249383937</td>\n",
       "      <td>2016-02-20 02:06:50+00:00</td>\n",
       "      <td>&lt;a href=\"http://twitter.com/download/iphone\" rel=\"nofollow\"&gt;Twitter for iPhone&lt;/a&gt;</td>\n",
       "      <td>\"Pupper is a present to world. Here is a bow for pupper.\" 12/10 precious as hell https://t.co/ItSsE92gCW</td>\n",
       "      <td>https://twitter.com/dog_rates/status/700864154249383937/photo/1</td>\n",
       "      <td>a</td>\n",
       "      <td>12</td>\n",
       "      <td>10</td>\n",
       "      <td>pupper</td>\n",
       "      <td>https://pbs.twimg.com/media/Cbn4OqKWwAADGWt.jpg</td>\n",
       "      <td>1</td>\n",
       "      <td>kuvasz</td>\n",
       "      <td>598</td>\n",
       "      <td>2493</td>\n",
       "    </tr>\n",
       "    <tr>\n",
       "      <th>1215</th>\n",
       "      <td>678774928607469569</td>\n",
       "      <td>2015-12-21 03:12:08+00:00</td>\n",
       "      <td>&lt;a href=\"http://twitter.com/download/iphone\" rel=\"nofollow\"&gt;Twitter for iPhone&lt;/a&gt;</td>\n",
       "      <td>This is Tug. He's not required to wear the cone he just wants his voice to project more clearly. 11/10 https://t.co/Sp739Ou2qx</td>\n",
       "      <td>https://twitter.com/dog_rates/status/678774928607469569/photo/1</td>\n",
       "      <td>Tug</td>\n",
       "      <td>11</td>\n",
       "      <td>10</td>\n",
       "      <td>None</td>\n",
       "      <td>https://pbs.twimg.com/media/CWt-MNIWEAAUC9S.jpg</td>\n",
       "      <td>1</td>\n",
       "      <td>Pembroke</td>\n",
       "      <td>855</td>\n",
       "      <td>2678</td>\n",
       "    </tr>\n",
       "    <tr>\n",
       "      <th>1288</th>\n",
       "      <td>675781562965868544</td>\n",
       "      <td>2015-12-12 20:57:34+00:00</td>\n",
       "      <td>&lt;a href=\"http://twitter.com/download/iphone\" rel=\"nofollow\"&gt;Twitter for iPhone&lt;/a&gt;</td>\n",
       "      <td>Say hello to Buddah. He was Waldo for Halloween. 11/10 https://t.co/DVAqAnb624</td>\n",
       "      <td>https://twitter.com/dog_rates/status/675781562965868544/photo/1</td>\n",
       "      <td>Buddah</td>\n",
       "      <td>11</td>\n",
       "      <td>10</td>\n",
       "      <td>None</td>\n",
       "      <td>https://pbs.twimg.com/media/CWDbv2yU4AARfeH.jpg</td>\n",
       "      <td>1</td>\n",
       "      <td>Maltese_dog</td>\n",
       "      <td>436</td>\n",
       "      <td>1517</td>\n",
       "    </tr>\n",
       "    <tr>\n",
       "      <th>925</th>\n",
       "      <td>703769065844768768</td>\n",
       "      <td>2016-02-28 02:29:55+00:00</td>\n",
       "      <td>&lt;a href=\"http://twitter.com/download/iphone\" rel=\"nofollow\"&gt;Twitter for iPhone&lt;/a&gt;</td>\n",
       "      <td>When you're trying to watch your favorite tv show but your friends keep interrupting. 10/10 relatable af https://t.co/QQZDCYl6zT</td>\n",
       "      <td>https://twitter.com/dog_rates/status/703769065844768768/photo/1,https://twitter.com/dog_rates/status/703769065844768768/photo/1</td>\n",
       "      <td>None</td>\n",
       "      <td>10</td>\n",
       "      <td>10</td>\n",
       "      <td>None</td>\n",
       "      <td>https://pbs.twimg.com/media/CcRKOzyXEAQO_HN.jpg</td>\n",
       "      <td>2</td>\n",
       "      <td>boxer</td>\n",
       "      <td>1087</td>\n",
       "      <td>3127</td>\n",
       "    </tr>\n",
       "  </tbody>\n",
       "</table>\n",
       "</div>"
      ],
      "text/plain": [
       "                tweet_id                  timestamp  \\\n",
       "643   749395845976588288  2016-07-03 00:14:27+00:00   \n",
       "946   700864154249383937  2016-02-20 02:06:50+00:00   \n",
       "1215  678774928607469569  2015-12-21 03:12:08+00:00   \n",
       "1288  675781562965868544  2015-12-12 20:57:34+00:00   \n",
       "925   703769065844768768  2016-02-28 02:29:55+00:00   \n",
       "\n",
       "                                                                                  source  \\\n",
       "643   <a href=\"http://twitter.com/download/iphone\" rel=\"nofollow\">Twitter for iPhone</a>   \n",
       "946   <a href=\"http://twitter.com/download/iphone\" rel=\"nofollow\">Twitter for iPhone</a>   \n",
       "1215  <a href=\"http://twitter.com/download/iphone\" rel=\"nofollow\">Twitter for iPhone</a>   \n",
       "1288  <a href=\"http://twitter.com/download/iphone\" rel=\"nofollow\">Twitter for iPhone</a>   \n",
       "925   <a href=\"http://twitter.com/download/iphone\" rel=\"nofollow\">Twitter for iPhone</a>   \n",
       "\n",
       "                                                                                                                                        text  \\\n",
       "643   This is George. He just remembered that bees are dying globally at an alarming rate. Scary stuff George. 10/10 https://t.co/lznl6QGkYc   \n",
       "946                                 \"Pupper is a present to world. Here is a bow for pupper.\" 12/10 precious as hell https://t.co/ItSsE92gCW   \n",
       "1215          This is Tug. He's not required to wear the cone he just wants his voice to project more clearly. 11/10 https://t.co/Sp739Ou2qx   \n",
       "1288                                                          Say hello to Buddah. He was Waldo for Halloween. 11/10 https://t.co/DVAqAnb624   \n",
       "925         When you're trying to watch your favorite tv show but your friends keep interrupting. 10/10 relatable af https://t.co/QQZDCYl6zT   \n",
       "\n",
       "                                                                                                                        expanded_urls  \\\n",
       "643   https://twitter.com/dog_rates/status/749395845976588288/photo/1,https://twitter.com/dog_rates/status/749395845976588288/photo/1   \n",
       "946                                                                   https://twitter.com/dog_rates/status/700864154249383937/photo/1   \n",
       "1215                                                                  https://twitter.com/dog_rates/status/678774928607469569/photo/1   \n",
       "1288                                                                  https://twitter.com/dog_rates/status/675781562965868544/photo/1   \n",
       "925   https://twitter.com/dog_rates/status/703769065844768768/photo/1,https://twitter.com/dog_rates/status/703769065844768768/photo/1   \n",
       "\n",
       "        name  new_rating_numerator  new_rating_denominator dogtionary  \\\n",
       "643   George                    10                      10       None   \n",
       "946        a                    12                      10     pupper   \n",
       "1215     Tug                    11                      10       None   \n",
       "1288  Buddah                    11                      10       None   \n",
       "925     None                    10                      10       None   \n",
       "\n",
       "                                              jpg_url  img_num        breed  \\\n",
       "643   https://pbs.twimg.com/media/CmZjizYW8AA3FCN.jpg        1   Pomeranian   \n",
       "946   https://pbs.twimg.com/media/Cbn4OqKWwAADGWt.jpg        1       kuvasz   \n",
       "1215  https://pbs.twimg.com/media/CWt-MNIWEAAUC9S.jpg        1     Pembroke   \n",
       "1288  https://pbs.twimg.com/media/CWDbv2yU4AARfeH.jpg        1  Maltese_dog   \n",
       "925   https://pbs.twimg.com/media/CcRKOzyXEAQO_HN.jpg        2        boxer   \n",
       "\n",
       "      num_retweet  num_favorite  \n",
       "643          3291          8276  \n",
       "946           598          2493  \n",
       "1215          855          2678  \n",
       "1288          436          1517  \n",
       "925          1087          3127  "
      ]
     },
     "execution_count": 51,
     "metadata": {},
     "output_type": "execute_result"
    }
   ],
   "source": [
    "pd.read_csv('twitter_archive_master.csv').sample(5)"
   ]
  },
  {
   "cell_type": "markdown",
   "id": "analyzed-supply",
   "metadata": {},
   "source": [
    "The most common Dogtionary type is - this is found to be pupper."
   ]
  },
  {
   "cell_type": "code",
   "execution_count": 52,
   "id": "quick-nursing",
   "metadata": {},
   "outputs": [
    {
     "data": {
      "text/plain": [
       "None              1403\n",
       "pupper             168\n",
       "doggo               54\n",
       "puppo               22\n",
       "floofer              8\n",
       "doggo & pupper       4\n",
       "Name: dogtionary, dtype: int64"
      ]
     },
     "execution_count": 52,
     "metadata": {},
     "output_type": "execute_result"
    }
   ],
   "source": [
    "twtarch_master['dogtionary'].value_counts()"
   ]
  },
  {
   "cell_type": "markdown",
   "id": "timely-party",
   "metadata": {},
   "source": [
    "The most common dog breed is - this is found to be golden retriever, followed by Labrador retriever."
   ]
  },
  {
   "cell_type": "code",
   "execution_count": 53,
   "id": "expanded-standing",
   "metadata": {},
   "outputs": [
    {
     "data": {
      "text/plain": [
       "golden_retriever        156\n",
       "Labrador_retriever      104\n",
       "Pembroke                 94\n",
       "Chihuahua                90\n",
       "pug                      62\n",
       "                       ... \n",
       "Bouvier_des_Flandres      1\n",
       "standard_schnauzer        1\n",
       "Irish_wolfhound           1\n",
       "Japanese_spaniel          1\n",
       "silky_terrier             1\n",
       "Name: breed, Length: 113, dtype: int64"
      ]
     },
     "execution_count": 53,
     "metadata": {},
     "output_type": "execute_result"
    }
   ],
   "source": [
    "twtarch_master['breed'].value_counts()"
   ]
  },
  {
   "cell_type": "code",
   "execution_count": 54,
   "id": "olive-skirt",
   "metadata": {},
   "outputs": [
    {
     "data": {
      "image/png": "[encoded data removed]",
      "text/plain": [
       "<Figure size 1008x720 with 1 Axes>"
      ]
     },
     "metadata": {
      "needs_background": "light"
     },
     "output_type": "display_data"
    }
   ],
   "source": [
    "# show the popular breeds in a word cloud in a dog shaped contour\n",
    "plt.figure(figsize=(14, 10))\n",
    "\n",
    "dog_mask = np.array(Image.open(\"dog.jpg\"))\n",
    "wordcloud_breed = WordCloud(background_color=\"white\",\n",
    "                            mask=dog_mask,\n",
    "                            width=800,\n",
    "                            height=400,\n",
    "                            contour_width=3,\n",
    "                            contour_color='blue').generate(' '.join(\n",
    "                                twtarch_master['breed']))\n",
    "plt.imshow(wordcloud_breed)\n",
    "plt.axis(\"off\")\n",
    "plt.show()"
   ]
  },
  {
   "cell_type": "markdown",
   "id": "conditional-slope",
   "metadata": {},
   "source": [
    "Percentage of times a dog has been scored at or above 10, i.e., these dog owners must be beyond impressed with their dogs - this is found to be over 82%, or in other words, a large majority."
   ]
  },
  {
   "cell_type": "code",
   "execution_count": 55,
   "id": "sticky-parcel",
   "metadata": {},
   "outputs": [
    {
     "data": {
      "text/plain": [
       "0.8239903556359253"
      ]
     },
     "execution_count": 55,
     "metadata": {},
     "output_type": "execute_result"
    }
   ],
   "source": [
    "(twtarch_master['new_rating_numerator'] >= 10).sum() / len(twtarch_master)"
   ]
  },
  {
   "cell_type": "markdown",
   "id": "grand-emphasis",
   "metadata": {},
   "source": [
    "The dog breed that has the highest average number of retweets - this is found to be Bedlington terrier, followed by Afghan hound and standard poodle."
   ]
  },
  {
   "cell_type": "code",
   "execution_count": 56,
   "id": "sensitive-newsletter",
   "metadata": {},
   "outputs": [
    {
     "data": {
      "text/plain": [
       "breed\n",
       "Bedlington_terrier    6990.166667\n",
       "Afghan_hound          4980.333333\n",
       "standard_poodle       4674.545455\n",
       "French_bulldog        4598.100000\n",
       "English_springer      4583.900000\n",
       "                         ...     \n",
       "EntleBucher            585.000000\n",
       "Tibetan_terrier        464.250000\n",
       "Japanese_spaniel       376.000000\n",
       "Brabancon_griffon      242.333333\n",
       "groenendael            234.000000\n",
       "Name: num_retweet, Length: 113, dtype: float64"
      ]
     },
     "execution_count": 56,
     "metadata": {},
     "output_type": "execute_result"
    }
   ],
   "source": [
    "twtarch_master.groupby('breed').mean()['num_retweet'].sort_values(\n",
    "    ascending=False)"
   ]
  },
  {
   "cell_type": "markdown",
   "id": "modern-peoples",
   "metadata": {},
   "source": [
    "The dog breed that received the highest average number of favorites - this is found to be Bedlington terrier, followed by Saluki and French_bulldog."
   ]
  },
  {
   "cell_type": "code",
   "execution_count": 57,
   "id": "olympic-dryer",
   "metadata": {},
   "outputs": [
    {
     "data": {
      "text/plain": [
       "breed\n",
       "Bedlington_terrier      22320.833333\n",
       "Saluki                  21506.250000\n",
       "French_bulldog          18132.200000\n",
       "Bouvier_des_Flandres    15916.000000\n",
       "Afghan_hound            15224.000000\n",
       "                            ...     \n",
       "Tibetan_terrier          1620.500000\n",
       "Irish_wolfhound          1333.000000\n",
       "Japanese_spaniel         1165.000000\n",
       "groenendael              1015.000000\n",
       "Brabancon_griffon         773.333333\n",
       "Name: num_favorite, Length: 113, dtype: float64"
      ]
     },
     "execution_count": 57,
     "metadata": {},
     "output_type": "execute_result"
    }
   ],
   "source": [
    "twtarch_master.groupby('breed').mean()['num_favorite'].sort_values(\n",
    "    ascending=False)"
   ]
  },
  {
   "cell_type": "markdown",
   "id": "falling-measure",
   "metadata": {},
   "source": [
    "So, it appears that Bedlington terrier is the highest retweeted & thumbed-up dog breed. Other dog breeds such as Afghan hound and French bulldog are also much liked on Twitter."
   ]
  },
  {
   "cell_type": "markdown",
   "id": "juvenile-miami",
   "metadata": {},
   "source": [
    "Is there a correlation between number of retweet and number of favorite? - this is found to be yes and there is quite a strong positive relationship."
   ]
  },
  {
   "cell_type": "code",
   "execution_count": 58,
   "id": "based-rider",
   "metadata": {},
   "outputs": [
    {
     "data": {
      "image/png": "[encoded data removed]",
      "text/plain": [
       "<Figure size 432x288 with 1 Axes>"
      ]
     },
     "metadata": {
      "needs_background": "light"
     },
     "output_type": "display_data"
    }
   ],
   "source": [
    "# visualise with a regression plot\n",
    "sns.regplot(x=twtarch_master['num_retweet'], y=twtarch_master['num_favorite'])\n",
    "plt.show()"
   ]
  },
  {
   "cell_type": "code",
   "execution_count": 59,
   "id": "ignored-sterling",
   "metadata": {},
   "outputs": [
    {
     "data": {
      "text/plain": [
       "(0.9304677360103853, 0.0)"
      ]
     },
     "execution_count": 59,
     "metadata": {},
     "output_type": "execute_result"
    }
   ],
   "source": [
    "# find out the pearson r value and the corresponding p-value\n",
    "stats.pearsonr(twtarch_master['num_retweet'], twtarch_master['num_favorite'])"
   ]
  },
  {
   "cell_type": "markdown",
   "id": "located-holiday",
   "metadata": {},
   "source": [
    "A positive close-to-one coefficient with a very small p-value signifies a strong positive correlation between number of retweet and favorite ratings, which is as expected."
   ]
  },
  {
   "cell_type": "code",
   "execution_count": 60,
   "id": "tender-surge",
   "metadata": {},
   "outputs": [
    {
     "data": {
      "text/plain": [
       "(Timestamp('2015-11-15 22:32:08+0000', tz='UTC'),\n",
       " Timestamp('2017-08-01 00:17:27+0000', tz='UTC'))"
      ]
     },
     "execution_count": 60,
     "metadata": {},
     "output_type": "execute_result"
    }
   ],
   "source": [
    "# The time period of this data\n",
    "twtarch_master['timestamp'].min(), twtarch_master['timestamp'].max()"
   ]
  }
 ],
 "metadata": {
  "kernelspec": {
   "display_name": "Python 3",
   "language": "python",
   "name": "python3"
  },
  "language_info": {
   "codemirror_mode": {
    "name": "ipython",
    "version": 3
   },
   "file_extension": ".py",
   "mimetype": "text/x-python",
   "name": "python",
   "nbconvert_exporter": "python",
   "pygments_lexer": "ipython3",
   "version": "3.8.5"
  },
  "latex_envs": {
   "LaTeX_envs_menu_present": true,
   "autoclose": true,
   "autocomplete": true,
   "bibliofile": "biblio.bib",
   "cite_by": "apalike",
   "current_citInitial": 1,
   "eqLabelWithNumbers": true,
   "eqNumInitial": 1,
   "hotkeys": {
    "equation": "Ctrl-E",
    "itemize": "Ctrl-I"
   },
   "labels_anchors": false,
   "latex_user_defs": false,
   "report_style_numbering": false,
   "user_envs_cfg": false
  },
  "toc": {
   "base_numbering": 1,
   "nav_menu": {},
   "number_sections": true,
   "sideBar": true,
   "skip_h1_title": false,
   "title_cell": "Table of Contents",
   "title_sidebar": "Contents",
   "toc_cell": false,
   "toc_position": {},
   "toc_section_display": true,
   "toc_window_display": true
  },
  "varInspector": {
   "cols": {
    "lenName": 16,
    "lenType": 16,
    "lenVar": 40
   },
   "kernels_config": {
    "python": {
     "delete_cmd_postfix": "",
     "delete_cmd_prefix": "del ",
     "library": "var_list.py",
     "varRefreshCmd": "print(var_dic_list())"
    },
    "r": {
     "delete_cmd_postfix": ") ",
     "delete_cmd_prefix": "rm(",
     "library": "var_list.r",
     "varRefreshCmd": "cat(var_dic_list()) "
    }
   },
   "position": {
    "height": "483px",
    "left": "8px",
    "right": "20px",
    "top": "423px",
    "width": "326px"
   },
   "types_to_exclude": [
    "module",
    "function",
    "builtin_function_or_method",
    "instance",
    "_Feature"
   ],
   "window_display": true
  }
 },
 "nbformat": 4,
 "nbformat_minor": 5
}
